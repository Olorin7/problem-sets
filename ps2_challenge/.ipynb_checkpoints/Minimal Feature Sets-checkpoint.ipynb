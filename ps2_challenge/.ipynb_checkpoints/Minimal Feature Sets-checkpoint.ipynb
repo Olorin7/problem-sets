{
 "cells": [
  {
   "cell_type": "markdown",
   "metadata": {
    "deletable": false,
    "nbgrader": {
     "cell_type": "release"
    }
   },
   "source": [
    "Make sure you fill in any place that says `YOUR CODE HERE` or \"YOUR ANSWER HERE\", as well as your collaborators below:"
   ]
  },
  {
   "cell_type": "code",
   "execution_count": null,
   "metadata": {
    "deletable": false,
    "nbgrader": {
     "cell_type": "release"
    }
   },
   "outputs": [],
   "source": [
    "COLLABORATORS = \"\""
   ]
  },
  {
   "cell_type": "markdown",
   "metadata": {
    "deletable": false,
    "nbgrader": {}
   },
   "source": [
    "---"
   ]
  },
  {
   "cell_type": "code",
   "execution_count": null,
   "metadata": {
    "deletable": false,
    "nbgrader": {}
   },
   "outputs": [],
   "source": [
    "import itertools\n",
    "import numpy as np"
   ]
  },
  {
   "cell_type": "markdown",
   "metadata": {
    "deletable": false,
    "nbgrader": {}
   },
   "source": [
    "<div class=\"alert alert-warning\">This challenge problem is **optional**. If you complete it, as well as the other challenge problems on other problem sets, then you can use the combined challenge problem scores to replace the score of one of the normal problem sets. However, if you do not do the challenge problems, it will not negatively affect your score.</div>"
   ]
  },
  {
   "cell_type": "markdown",
   "metadata": {
    "deletable": false,
    "nbgrader": {}
   },
   "source": [
    "---\n",
    "## Part A (0.5 points)"
   ]
  },
  {
   "cell_type": "markdown",
   "metadata": {
    "deletable": false,
    "nbgrader": {}
   },
   "source": [
    "Write a function `get_distinguishing_features` that generates a set of rules that uniquely identifies a given animal against the set of all other animals in the same data used from Problem 3. These rules can use any combination of positive features and negative features. We have provided a function `get_animals` that idenitifies the set of animals that are consistent with a set of positive and negative rules; we will use this function to confirm that your set of rules identifies exactly one animal."
   ]
  },
  {
   "cell_type": "code",
   "execution_count": null,
   "metadata": {
    "deletable": false,
    "nbgrader": {}
   },
   "outputs": [],
   "source": [
    "data = np.load('data/50animals.npz')"
   ]
  },
  {
   "cell_type": "code",
   "execution_count": null,
   "metadata": {
    "deletable": false,
    "nbgrader": {}
   },
   "outputs": [],
   "source": [
    "def get_animals(features, data):\n",
    "    \"\"\"Gets all animals with the given features from the data\n",
    "    \n",
    "    Parameters\n",
    "    ----------\n",
    "    features : dict\n",
    "        This dict has three fields:\n",
    "        animal: name of the animal\n",
    "        negativeFeatures: a list of zero or more features that are true \n",
    "            for the animal\n",
    "        positiveFeatures: a list of zero or more features that are false\n",
    "            for the animal\n",
    "    data: dict\n",
    "        The data for the animal guessing game, in dictionary form. This data \n",
    "        has fields feature_data, feature_names, and animal_names\n",
    "        \n",
    "    Returns\n",
    "    -------\n",
    "    A list of animals consistent with positive and negative features\n",
    "    \n",
    "    \"\"\"\n",
    "    feature_data = data['animal_features']\n",
    "    feature_names = data['feature_names']\n",
    "    animal_names = data['animal_names']\n",
    "\n",
    "    # see how many animals are picked out with features\n",
    "    positives = feature_data[:, np.array([x in features['positiveFeatures'] \n",
    "        for x in feature_names])]\n",
    "    negatives = feature_data[:, np.array([x in features['negativeFeatures'] \n",
    "        for x in feature_names])]\n",
    "    return(list(set(animal_names[np.array([all(x) for x in positives])]) & \n",
    "        set(animal_names[np.array([not any(x) for x in negatives])])))\n",
    "    "
   ]
  },
  {
   "cell_type": "code",
   "execution_count": null,
   "metadata": {
    "deletable": false,
    "nbgrader": {
     "checksum": "6ea2a19c81fc155f8d7aa34de321b7f2",
     "grade": false,
     "grade_id": "getDistinguishingFeatures",
     "points": 2,
     "solution": true
    }
   },
   "outputs": [],
   "source": [
    "def get_distinguishing_features(animal, data):\n",
    "    \"\"\"A function that finds a set of rules that uniquely identifies an\n",
    "    animal from the given data\n",
    "\n",
    "    Hint: you may want to use itertools.product to efficiently create \n",
    "    sets of rules. \n",
    "    \n",
    "    \n",
    "    Parameters\n",
    "    ----------\n",
    "    queryAnimal: string\n",
    "        The name of the animal for which the function will compute rules\n",
    "    data: dict\n",
    "        The data for the animal guessing game, in dictionary form. This data \n",
    "        has fields feature_data, feature_names, and animal_names\n",
    "        \n",
    "    Returns\n",
    "    -------\n",
    "    Dictionary with three fields\n",
    "        animal: name of the animal\n",
    "        negativeFeatures: a list of zero or more features that are true \n",
    "            for the animal\n",
    "        positiveFeatures: a list of zero or more features that are false\n",
    "            for the animal\n",
    "    \"\"\"\n",
    "    # YOUR CODE HERE\n",
    "    raise NotImplementedError()\n"
   ]
  },
  {
   "cell_type": "code",
   "execution_count": null,
   "metadata": {
    "deletable": false,
    "nbgrader": {}
   },
   "outputs": [],
   "source": [
    "featureSet = get_distinguishing_features('grizzly bear', data)\n",
    "featureSet"
   ]
  },
  {
   "cell_type": "code",
   "execution_count": null,
   "metadata": {
    "deletable": false,
    "nbgrader": {}
   },
   "outputs": [],
   "source": [
    "get_animals(featureSet, data) # this should return one animal, grizzly bear"
   ]
  },
  {
   "cell_type": "code",
   "execution_count": null,
   "metadata": {
    "deletable": false,
    "nbgrader": {}
   },
   "outputs": [],
   "source": [
    "# add your own test cases here!\n"
   ]
  },
  {
   "cell_type": "code",
   "execution_count": null,
   "metadata": {
    "deletable": false,
    "nbgrader": {
     "checksum": "3c9c42cc9eb0d123c0ab9903db8c853a",
     "grade": true,
     "grade_id": "getDistinguishingFeaturesA",
     "points": 0.5
    }
   },
   "outputs": [],
   "source": [
    "\"\"\"Test that getDistinguishingFeatures finds exactly one animal \n",
    "in each case. Note that these tests may take some time to run.\"\"\"\n",
    "from nose.tools import assert_equal\n",
    "\n",
    "assert_equal(get_animals(get_distinguishing_features('antelope', data),\n",
    "    data), ['antelope'])\n",
    "assert_equal(get_animals(get_distinguishing_features('grizzly bear', data),\n",
    "    data), ['grizzly bear'])\n",
    "assert_equal(get_animals(get_distinguishing_features('otter', data),\n",
    "    data), ['otter'])\n",
    "assert_equal(get_animals(get_distinguishing_features('rabbit', data), \n",
    "    data), ['rabbit'])\n",
    "assert_equal(get_animals(get_distinguishing_features('dolphin', data), \n",
    "    data), ['dolphin'])\n",
    "\n",
    "print(\"Success!\")"
   ]
  },
  {
   "cell_type": "markdown",
   "metadata": {
    "deletable": false,
    "nbgrader": {}
   },
   "source": [
    "## Part B (0.5 points)"
   ]
  },
  {
   "cell_type": "markdown",
   "metadata": {
    "deletable": false,
    "nbgrader": {}
   },
   "source": [
    "Revise `getDistinguishingFeatures` such that the it returns the *minimal* number of rules necessary to distinguish that animal from all others. "
   ]
  },
  {
   "cell_type": "code",
   "execution_count": null,
   "metadata": {
    "deletable": false,
    "nbgrader": {}
   },
   "outputs": [],
   "source": [
    "# add your own test cases here!\n"
   ]
  },
  {
   "cell_type": "code",
   "execution_count": null,
   "metadata": {
    "deletable": false,
    "nbgrader": {
     "checksum": "abeada07caaf076ae96b5e05bb50d428",
     "grade": true,
     "grade_id": "shortestRules",
     "points": 0.5
    }
   },
   "outputs": [],
   "source": [
    "\"\"\"Check if get_distinguishing_features is correct\"\"\"\n",
    "\n",
    "# compute minimal rules for each animal (note: this may take awhile to run!)\n",
    "minimalRules = [get_distinguishing_features(x, data) for x in data['animal_names']]\n",
    "minimalRuleCounts = np.array([len(x['negativeFeatures']) +\n",
    "    len(x['positiveFeatures']) for x in minimalRules])\n",
    "\n",
    "# load in the correct minimal rules\n",
    "goldStandardCounts = np.load('data/minimal_rule_counts.npy')\n",
    "\n",
    "# compare them\n",
    "assert not any(minimalRuleCounts > goldStandardCounts), \\\n",
    "    \"Your rules are longer than the gold standard rules\"\n",
    "\n",
    "print(\"Success!\")        "
   ]
  },
  {
   "cell_type": "markdown",
   "metadata": {
    "deletable": false,
    "nbgrader": {}
   },
   "source": [
    "---"
   ]
  },
  {
   "cell_type": "markdown",
   "metadata": {
    "deletable": false,
    "nbgrader": {}
   },
   "source": [
    "Before turning this problem in remember to do the following steps:\n",
    "\n",
    "1. **Restart the kernel** (Kernel$\\rightarrow$Restart)\n",
    "2. **Run all cells** (Cell$\\rightarrow$Run All)\n",
    "3. **Save** (File$\\rightarrow$Save and Checkpoint)"
   ]
  },
  {
   "cell_type": "markdown",
   "metadata": {
    "deletable": false,
    "nbgrader": {
     "cell_type": "release"
    }
   },
   "source": [
    "<div class=\"alert alert-danger\">After you have completed these three steps, ensure that the following cell has printed \"No errors\". If it has <b>not</b> printed \"No errors\", then your code has a bug in it and has thrown an error! Make sure you fix this error before turning in your problem set.</div>"
   ]
  },
  {
   "cell_type": "code",
   "execution_count": null,
   "metadata": {
    "deletable": false,
    "nbgrader": {}
   },
   "outputs": [],
   "source": [
    "print(\"No errors!\")"
   ]
  }
 ],
 "metadata": {
  "kernelspec": {
   "display_name": "Python 3",
   "language": "python",
   "name": "python3"
  },
  "language_info": {
   "codemirror_mode": {
    "name": "ipython",
    "version": 3
   },
   "file_extension": ".py",
   "mimetype": "text/x-python",
   "name": "python",
   "nbconvert_exporter": "python",
   "pygments_lexer": "ipython3",
   "version": "3.4.3"
  }
 },
 "nbformat": 4,
 "nbformat_minor": 1
}
