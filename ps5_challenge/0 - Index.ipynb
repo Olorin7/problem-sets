{
 "cells": [
  {
   "cell_type": "markdown",
   "metadata": {},
   "source": [
    "# CogSci 131: Computational Models of Cognition"
   ]
  },
  {
   "cell_type": "markdown",
   "metadata": {},
   "source": [
    "---"
   ]
  },
  {
   "cell_type": "markdown",
   "metadata": {},
   "source": [
    "## Challenge Problem Grading"
   ]
  },
  {
   "cell_type": "markdown",
   "metadata": {},
   "source": [
    "Each challenge problem is worth a total of **0.5 percentage points** in your overall course grade. This means that if you get full credit on a challenge problem for each of the 6 problem sets you will have earned a full letter grade (3%) in extra credit by the end of the semester."
   ]
  },
  {
   "cell_type": "markdown",
   "metadata": {},
   "source": [
    "## Challenge Problem Policies"
   ]
  },
  {
   "cell_type": "markdown",
   "metadata": {},
   "source": [
    "1. Challenge problems must be completed individually.\n",
    "2. Challenge problems do not include autograder tests.\n",
    "3. Challenge problems are optional. Failure to complete a challenge problem will never hurt your score on a problem set. \n",
    "4. Challenge problems are due at the same time as the corresponding problem set.\n",
    "5. **You can only earn credit for one challenge problem per problem set.** If you complete both challenge problems for a problem set, we will count your best score."
   ]
  },
  {
   "cell_type": "markdown",
   "metadata": {},
   "source": [
    "## Questions"
   ]
  },
  {
   "cell_type": "markdown",
   "metadata": {},
   "source": [
    "If you have any questions regarding the problem set, please post them to the class [Piazza](https://piazza.com/berkeley/spring2018/cogsci131/home) site. In general, the Piazza site is for you to work together and to answer each other's questions. The GSIs will answer questions only once per day, and will **not** answer questions the night before the problem set is due. So get started early!"
   ]
  }
 ],
 "metadata": {
  "kernelspec": {
   "display_name": "Python 3",
   "language": "python",
   "name": "python3"
  },
  "language_info": {
   "codemirror_mode": {
    "name": "ipython",
    "version": 3
   },
   "file_extension": ".py",
   "mimetype": "text/x-python",
   "name": "python",
   "nbconvert_exporter": "python",
   "pygments_lexer": "ipython3",
   "version": "3.4.3"
  }
 },
 "nbformat": 4,
 "nbformat_minor": 0
}
