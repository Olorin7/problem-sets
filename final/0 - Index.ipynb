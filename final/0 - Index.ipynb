{
 "cells": [
  {
   "cell_type": "markdown",
   "metadata": {},
   "source": [
    "# CogSci 131: Computational Models of Cognition"
   ]
  },
  {
   "cell_type": "markdown",
   "metadata": {},
   "source": [
    "---"
   ]
  },
  {
   "cell_type": "markdown",
   "metadata": {},
   "source": [
    "### Due date\n",
    "\n",
    "The final exam is due on **Monday, December 12th** at **5pm**.\n",
    "\n",
    "### Slip days/extensions\n",
    "\n",
    "You may not use slip days on the final, and we will not be giving extensions for any reason on the final. _**If you turn in the exam late, you will receive a zero.**_\n",
    "\n",
    "### Collaboration\n",
    "\n",
    "As this is an exam, there is NO collaboration. You may not discuss the exam with other students and all answers must be your own.\n",
    "\n",
    "### Notes and resources\n",
    "\n",
    "The exam is open-book, meaning that you may use any class notes, readings, slides, and problem sets.\n",
    "\n",
    "You may use the internet only for programming-related queries such as looking up documentation; you may NOT use the internet to help with any of the written answers.\n",
    "\n",
    "Additionally, you may NOT reuse code or answers from previous problem sets (though you may refer to them) unless explicitly stated.\n",
    "\n",
    "### Questions/clarifications\n",
    "\n",
    "If you have any questions about the exam, please send them to gsi-cogsci131@lists.berkeley.edu. We will post any necessary clarifications to bCourses. Piazza will be frozen for the duration of the final. Also note that the GSIs can only give clarifications; we cannot help you solve the problems."
   ]
  },
  {
   "cell_type": "markdown",
   "metadata": {},
   "source": [
    "### Submission Instructions"
   ]
  },
  {
   "cell_type": "markdown",
   "metadata": {},
   "source": [
    "Problems will require you to fill in the provided IPython Notebooks, which may require you to write Python code, written answers, or both. All the files you need are provided for you --- you just need to fill them in with your answers.\n",
    "\n",
    "You will be submitting your exam following the standard problem set submission protocol. You can update your submission until the due date. If you make any changes to your submission after the due date, we will regard your **entire** problem set as having been turned in at the last time it was changed."
   ]
  },
  {
   "cell_type": "markdown",
   "metadata": {},
   "source": [
    "### Validation Scripts"
   ]
  },
  {
   "cell_type": "markdown",
   "metadata": {},
   "source": [
    "All notebooks have a cell containing tests for your code. Make sure you run these cells for each part of the exam before submitting your assignment. **If your code does not pass the test cells, you will NOT receive credit.** In general, you can expect that if your code passes the test cells, then you will receive full credit for the coding part of your answer. \n",
    "\n",
    "However, the instructors reserve the right to deduct points if your code does not conform to the spirit of the problem. For example, if we ask you to write code to compute the sum of `[1, 2, 3, 4, 5]`, we expect a solution like `answer = np.sum([1, 2, 3, 4, 5])`, NOT `answer = 15`. The reason for this is that if you just supply us with a number, we cannot determine how you got that number: just like in a math class where you need to show your work, we want to see all the code you used to find the solution."
   ]
  }
 ],
 "metadata": {
  "kernelspec": {
   "display_name": "Python 3",
   "language": "python",
   "name": "python3"
  },
  "language_info": {
   "codemirror_mode": {
    "name": "ipython",
    "version": 3
   },
   "file_extension": ".py",
   "mimetype": "text/x-python",
   "name": "python",
   "nbconvert_exporter": "python",
   "pygments_lexer": "ipython3",
   "version": "3.5.1"
  }
 },
 "nbformat": 4,
 "nbformat_minor": 0
}
