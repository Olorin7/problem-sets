{
 "cells": [
  {
   "cell_type": "markdown",
   "metadata": {
    "deletable": false,
    "nbgrader": {
     "cell_type": "release"
    }
   },
   "source": [
    "Make sure you fill in any place that says `YOUR CODE HERE` or \"YOUR ANSWER HERE\". As a reminder, there is **NO COLLABORATION** whatsoever on the final."
   ]
  },
  {
   "cell_type": "markdown",
   "metadata": {
    "deletable": false,
    "nbgrader": {}
   },
   "source": [
    "---"
   ]
  },
  {
   "cell_type": "code",
   "execution_count": null,
   "metadata": {
    "deletable": false,
    "nbgrader": {}
   },
   "outputs": [],
   "source": [
    "%matplotlib inline\n",
    "import numpy as np\n",
    "import matplotlib.pyplot as plt\n",
    "from sklearn.decomposition import PCA\n",
    "from ipywidgets import interact\n",
    "\n",
    "# special imports for plotting faces in the widgets\n",
    "from pca import plot_face, reconstruct"
   ]
  },
  {
   "cell_type": "markdown",
   "metadata": {
    "deletable": false,
    "nbgrader": {}
   },
   "source": [
    "---\n",
    "## Introduction\n",
    "\n",
    "Principal components analysis (PCA) is a standard technique for dimensionality\n",
    "reduction. PCA provides a way to find a lower-dimensional representation\n",
    "of a dataset which preserves as much of the variance of the original data as\n",
    "possible. This approach is often applied to representing sets of\n",
    "images. In this problem we will apply it to representing faces. When applied to face images, the resulting principal\n",
    "components are often called \"eigenfaces.\"\n",
    "\n",
    "The datafile `faces.npy` contains a single array, `faces`. Each **row** in the array corresponds to an image of a face.  Each **column** in the array corresponds to a pixel ID. The entries in the array correspond to pixel intensities. The provided function `plot_face` automatically reshapes a 361-dimensional row vector of pixel intensities back into a 19 x 19 image and plots it. \n",
    "\n",
    "The code below loads the data and plots 25 random faces:"
   ]
  },
  {
   "cell_type": "code",
   "execution_count": null,
   "metadata": {
    "deletable": false,
    "nbgrader": {}
   },
   "outputs": [],
   "source": [
    "# Load in the face data and plot some random faces\n",
    "faces = np.load(\"data/faces.npy\")\n",
    "\n",
    "fig, axes = plt.subplots(5, 5)\n",
    "ix = np.random.randint(0, faces.shape[0], 25)\n",
    "for i in range(25):\n",
    "    plot_face(axes.flat[i], faces[ix[i]])"
   ]
  },
  {
   "cell_type": "markdown",
   "metadata": {
    "deletable": false,
    "nbgrader": {}
   },
   "source": [
    "We also can plot the \"average face\" for the dataset. This is the \"face\" that is produced when we average across each of the faces (rows) in the faces array."
   ]
  },
  {
   "cell_type": "code",
   "execution_count": null,
   "metadata": {
    "deletable": false,
    "nbgrader": {}
   },
   "outputs": [],
   "source": [
    "# Plot average face\n",
    "fig, axis = plt.subplots()\n",
    "plot_face(axis, np.mean(faces, axis=0))"
   ]
  },
  {
   "cell_type": "markdown",
   "metadata": {
    "deletable": false,
    "nbgrader": {}
   },
   "source": [
    "---\n",
    "## Part A (2.5 points)"
   ]
  },
  {
   "cell_type": "markdown",
   "metadata": {
    "deletable": false,
    "nbgrader": {}
   },
   "source": [
    "Run the provided function `PCA` on the images (rows) in `faces`:"
   ]
  },
  {
   "cell_type": "code",
   "execution_count": null,
   "metadata": {
    "deletable": false,
    "nbgrader": {
     "checksum": "1e72bb4ab74c32d280f1e9226cdb37ce",
     "grade": false,
     "grade_id": "pca_faces",
     "locked": true,
     "solution": false
    }
   },
   "outputs": [],
   "source": [
    "# Run PCA on the face data\n",
    "pca = PCA(n_components=361)\n",
    "pca.fit(faces)\n",
    "v = np.concatenate([pca.mean_[None], pca.components_])"
   ]
  },
  {
   "cell_type": "markdown",
   "metadata": {
    "deletable": false,
    "nbgrader": {}
   },
   "source": [
    "The widget below allows you to inspect the principal components computed from the `faces` array. Each component corresponds to a seperate dimension along which the images from the faces dataset vary. One way you can think of this is that each face in the dataset corresponds to a particular weighted combination of the average face with each of these principal components. "
   ]
  },
  {
   "cell_type": "code",
   "execution_count": null,
   "metadata": {
    "deletable": false,
    "nbgrader": {
     "checksum": "01a43b245a719a2a8b30315d32ffa408",
     "grade": false,
     "grade_id": "pca_components_widget",
     "locked": true,
     "solution": false
    }
   },
   "outputs": [],
   "source": [
    "# Interactive visualization of all the different components\n",
    "@interact\n",
    "def show_component(component=(1, 361)):\n",
    "    plt.close('all')\n",
    "    fig, ax = plt.subplots()\n",
    "    plot_face(ax, v[component])\n",
    "    fig.set_figwidth(2)\n",
    "    fig.set_figheight(2)"
   ]
  },
  {
   "cell_type": "markdown",
   "metadata": {
    "deletable": false,
    "nbgrader": {
     "grade": false,
     "solution": false
    }
   },
   "source": [
    "<div class=\"alert alert-success\">Describe what the first three principal components capture\n",
    "about the images in the dataset. What properties of the images do they seem to correspond to? </div>"
   ]
  },
  {
   "cell_type": "markdown",
   "metadata": {
    "deletable": false,
    "nbgrader": {}
   },
   "source": [
    "**Hint**: Take a look at the random faces we plotted in the introduction. What a few of the most glaring differences across images? How might the first couple of principal components capture these differences?"
   ]
  },
  {
   "cell_type": "markdown",
   "metadata": {
    "deletable": false,
    "nbgrader": {
     "checksum": "858be64f077b8bb326932fcf1faf1c5b",
     "grade": true,
     "grade_id": "part_a1",
     "points": 1.5,
     "solution": true
    }
   },
   "source": [
    "YOUR ANSWER HERE"
   ]
  },
  {
   "cell_type": "markdown",
   "metadata": {
    "deletable": false,
    "nbgrader": {}
   },
   "source": [
    "<div class=\"alert alert-success\">\n",
    "Compare these to at the last three principal components. What properties do the last three principal components correspond to?\n",
    "</div>"
   ]
  },
  {
   "cell_type": "markdown",
   "metadata": {
    "deletable": false,
    "nbgrader": {
     "checksum": "48f537c2c006eb65f4ac003cd4e21d87",
     "grade": true,
     "grade_id": "part_a2",
     "points": 1,
     "solution": true
    }
   },
   "source": [
    "YOUR ANSWER HERE"
   ]
  },
  {
   "cell_type": "markdown",
   "metadata": {
    "deletable": false,
    "nbgrader": {}
   },
   "source": [
    "---\n",
    "## Part B (1.5 points)\n",
    "\n",
    "We can also visualize the results as we add and subtract in additional principal components from the average face. As you move the slider to the right, a new principal component is added to the average face (components are added in the order they appear in the Part A). As you move the slider to the left, the principal component is subtracted."
   ]
  },
  {
   "cell_type": "code",
   "execution_count": null,
   "metadata": {
    "deletable": false,
    "nbgrader": {
     "checksum": "91511db96c242d7aa7cd9419cf6b16cc",
     "grade": false,
     "grade_id": "plot_reconstruction",
     "locked": true,
     "solution": false
    }
   },
   "outputs": [],
   "source": [
    "# Interactive visualization of the reconstruction of a face\n",
    "\n",
    "@interact\n",
    "def plot_reconstruction(face_index=(0, faces.shape[0]-1), components=(1, 200)):\n",
    "    plt.close('all')\n",
    "    fig, (ax1, ax2, ax3) = plt.subplots(1, 3)\n",
    "\n",
    "    plot_face(ax1, pca.mean_)\n",
    "    plot_face(ax2, reconstruct(faces[face_index], v, components, pca))\n",
    "    plot_face(ax3, faces[face_index])\n",
    "    \n",
    "    ax1.set_title('Average Face')\n",
    "    ax2.set_title('Reconstruction')\n",
    "    ax3.set_title('True Face')\n",
    "    \n",
    "    plt.draw()\n",
    "    fig.set_figwidth(6)\n",
    "    fig.set_figheight(2)"
   ]
  },
  {
   "cell_type": "markdown",
   "metadata": {
    "deletable": false,
    "nbgrader": {
     "grade": false,
     "points": 1,
     "solution": false
    }
   },
   "source": [
    "<div class=\"alert alert-success\">In general, what happens to the reconstruction as you (1) add and (2) remove principal components?</div>"
   ]
  },
  {
   "cell_type": "markdown",
   "metadata": {
    "deletable": false,
    "nbgrader": {
     "checksum": "1158d4a2a81bf553eb5650e30db67081",
     "grade": true,
     "grade_id": "part_b",
     "points": 1.5,
     "solution": true
    }
   },
   "source": [
    "YOUR ANSWER HERE"
   ]
  },
  {
   "cell_type": "markdown",
   "metadata": {
    "deletable": false,
    "nbgrader": {}
   },
   "source": [
    "---\n",
    "## Part C (3 points)"
   ]
  },
  {
   "cell_type": "markdown",
   "metadata": {
    "deletable": false,
    "nbgrader": {
     "grade": false,
     "points": 2
    }
   },
   "source": [
    "<div class=\"alert alert-success\"> Does it seem like you need all 361 principal components to get a good\n",
    "reconstruction of the original faces? In other words, after how many principal components are most faces clearly recognizable? At approximately how many principal components do you stop seeing a significant difference between the reconstruction and the true image? Comment on what this suggests about the dimensionality of our mental representation of faces.</div>"
   ]
  },
  {
   "cell_type": "markdown",
   "metadata": {
    "deletable": false,
    "nbgrader": {
     "checksum": "62eba3f5838d4e0bd6bda5a067154762",
     "grade": true,
     "grade_id": "part_c",
     "points": 3,
     "solution": true
    }
   },
   "source": [
    "YOUR ANSWER HERE"
   ]
  },
  {
   "cell_type": "markdown",
   "metadata": {
    "deletable": false,
    "nbgrader": {}
   },
   "source": [
    "---\n",
    "## Part D (3 points)"
   ]
  },
  {
   "cell_type": "markdown",
   "metadata": {
    "collapsed": true,
    "deletable": false,
    "nbgrader": {
     "grade": false
    }
   },
   "source": [
    "<div class=\"alert alert-success\"> Compare the reconstructions of the different faces. Can you identify any features of a face which predict whether its reconstruction will require more/fewer components to recognize? Explain why this might occur (your explanation should reference properties of the faces and of the PCA reconstructions). </div>"
   ]
  },
  {
   "cell_type": "markdown",
   "metadata": {
    "deletable": false,
    "nbgrader": {
     "checksum": "49cbbdba3f7424875bcfd139162a5520",
     "grade": true,
     "grade_id": "part_d",
     "points": 3,
     "solution": true
    }
   },
   "source": [
    "YOUR ANSWER HERE"
   ]
  },
  {
   "cell_type": "markdown",
   "metadata": {
    "deletable": false,
    "nbgrader": {}
   },
   "source": [
    "---"
   ]
  },
  {
   "cell_type": "markdown",
   "metadata": {
    "deletable": false,
    "nbgrader": {}
   },
   "source": [
    "Before turning this problem in remember to do the following steps:\n",
    "\n",
    "1. **Restart the kernel** (Kernel$\\rightarrow$Restart)\n",
    "2. **Run all cells** (Cell$\\rightarrow$Run All)\n",
    "3. **Save** (File$\\rightarrow$Save and Checkpoint)"
   ]
  },
  {
   "cell_type": "markdown",
   "metadata": {
    "deletable": false,
    "nbgrader": {
     "cell_type": "release"
    }
   },
   "source": [
    "<div class=\"alert alert-danger\">After you have completed these three steps, ensure that the following cell has printed \"No errors\". If it has <b>not</b> printed \"No errors\", then your code has a bug in it and has thrown an error! Make sure you fix this error before turning in your exam.</div>"
   ]
  },
  {
   "cell_type": "code",
   "execution_count": null,
   "metadata": {
    "deletable": false,
    "nbgrader": {}
   },
   "outputs": [],
   "source": [
    "print(\"No errors!\")"
   ]
  }
 ],
 "metadata": {
  "anaconda-cloud": {},
  "kernelspec": {
   "display_name": "Python 3",
   "language": "python",
   "name": "python3"
  },
  "language_info": {
   "codemirror_mode": {
    "name": "ipython",
    "version": 3
   },
   "file_extension": ".py",
   "mimetype": "text/x-python",
   "name": "python",
   "nbconvert_exporter": "python",
   "pygments_lexer": "ipython3",
   "version": "3.4.3"
  }
 },
 "nbformat": 4,
 "nbformat_minor": 1
}
