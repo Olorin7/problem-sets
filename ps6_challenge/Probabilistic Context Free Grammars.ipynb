{
 "cells": [
  {
   "cell_type": "markdown",
   "metadata": {
    "deletable": false,
    "nbgrader": {
     "cell_type": "release"
    }
   },
   "source": [
    "Make sure you fill in any place that says `YOUR CODE HERE` or \"YOUR ANSWER HERE\", as well as your collaborators below:"
   ]
  },
  {
   "cell_type": "code",
   "execution_count": null,
   "metadata": {
    "deletable": false,
    "nbgrader": {
     "cell_type": "release"
    }
   },
   "outputs": [],
   "source": [
    "COLLABORATORS = \"\""
   ]
  },
  {
   "cell_type": "markdown",
   "metadata": {
    "deletable": false,
    "nbgrader": {}
   },
   "source": [
    "---"
   ]
  },
  {
   "cell_type": "code",
   "execution_count": null,
   "metadata": {
    "deletable": false,
    "nbgrader": {}
   },
   "outputs": [],
   "source": [
    "import numpy as np"
   ]
  },
  {
   "cell_type": "markdown",
   "metadata": {
    "deletable": false,
    "nbgrader": {}
   },
   "source": [
    "In Problem 4 we looked at how we can use hidden Markov models to model the structure of human language. In this challenge problem we will investigate a more complex class of probabilistic language models: probabibilistic context-free grammars. You will 1) use recursion to sample a sentence from the provided grammar and 2) use dynamic programming to find the highest probability parse tree for a given sentence from the grammar."
   ]
  },
  {
   "cell_type": "markdown",
   "metadata": {
    "deletable": false,
    "nbgrader": {}
   },
   "source": [
    "Recall that a context-free grammar (CFG) is a formalism that compactly descibes the set of acceptable sentences in a language. A CFG consists of a set of rewrite rules that specify how to transform nonterminals into other nonterminals or terminals; these re-write rules are applied recursively until only a string of nonterminals remains. Rules that might generate a toy language resembling a subset of English might contain, for example, the first columns in the following tables:"
   ]
  },
  {
   "cell_type": "markdown",
   "metadata": {
    "deletable": false,
    "nbgrader": {}
   },
   "source": [
    "<table class=\"table table-striped\" style=\"width: 18em;\">\n",
    "    <tr>\n",
    "        <td colspan=2><center>Nonterminals</center>\n",
    "        </td>\n",
    "    </tr>    \n",
    "    <tr>\n",
    "        <td>Rule</td><td>Probability</td>\n",
    "    </tr>        \n",
    "    <tr>    \n",
    "    <td>S -> NP VP</td><td>1</td>\n",
    "    </tr>\n",
    "    <tr>\n",
    "        <td>NP -> DET N</td><td>.7</td>\n",
    "    </tr>\n",
    "    <tr>\n",
    "        <td>NP -> PPN N</td><td>.3</td>\n",
    "    </tr>\n",
    "    <tr>\n",
    "        <td>VP -> ADV V</td><td>.5</td>\n",
    "    </tr>\n",
    "    <tr>\n",
    "        <td>VP -> V PP</td><td>.4</td>\n",
    "    </tr>\n",
    "    <tr>\n",
    "        <td>VP -> V ADV</td><td>.1</td>\n",
    "    </tr>\n",
    "    <tr>\n",
    "        <td>PP -> P NP</td><td>1</td>\n",
    "    </tr>\n",
    "</table>"
   ]
  },
  {
   "cell_type": "markdown",
   "metadata": {
    "deletable": false,
    "nbgrader": {}
   },
   "source": [
    "<table class=\"table table-striped\" style=\"width: 18em;\">\n",
    "    \n",
    "    <tr>\n",
    "        <td colspan=2><center>Terminals</center>\n",
    "        </td>\n",
    "    </tr>    \n",
    "    <tr>\n",
    "        <td>Rule</td><td>Probability</td>\n",
    "    </tr>\n",
    "    <tr>\n",
    "        <td>N -> cat</td><td>.5</td>    \n",
    "    </tr>\n",
    "    <tr>\n",
    "        <td>N -> dog</td><td>.5</td>    \n",
    "    </tr>\n",
    "    <tr>\n",
    "        <td>V -> runs</td><td>.8</td>    \n",
    "    </tr>\n",
    "    <tr>\n",
    "        <td>V -> barks</td><td>.2</td>    \n",
    "    </tr>\n",
    "    <tr>\n",
    "        <td>ADJ -> black</td><td>.7</td>\n",
    "    </tr>\n",
    "    <tr>\n",
    "        <td>ADJ -> white</td><td>.3</td>\n",
    "    </tr>\n",
    "    <tr>\n",
    "        <td>ADV -> quickly</td><td>.1</td>\n",
    "    </tr>\n",
    "    <tr>\n",
    "        <td>ADV -> slowly</td><td>.9</td>    \n",
    "    </tr>\n",
    "    <tr>\n",
    "        <td>DET -> the</td><td>.6</td>\n",
    "    </tr>\n",
    "    <tr>\n",
    "        <td>DET -> a</td><td>.4</td>\n",
    "    </tr>\n",
    "    <tr>\n",
    "        <td>PPN -> his</td><td>.5</td>\n",
    "    </tr>\n",
    "    <tr>\n",
    "        <td>PPN -> her</td><td>.5</td>\n",
    "    </tr>\n",
    "    <tr>\n",
    "        <td>P -> by</td><td>.6</td>\n",
    "    </tr>\n",
    "    <tr>\n",
    "        <td>P -> with</td><td>.4</td>\n",
    "    </tr>\n",
    "</table>"
   ]
  },
  {
   "cell_type": "markdown",
   "metadata": {
    "deletable": false,
    "nbgrader": {}
   },
   "source": [
    "In these tables S represents a sentence node, NP a noun phrase, VP a verb phrase, PP a prepositional phrase, N a noun, V a verb, ADJ an Adjective, DET a determiner, PPN a personal pronoun, and P a preposition. This CFG specifies that \"his cat runs with a dog\" is in the language, but that \"dog cat his quickly\" is not.\n",
    "\n",
    "A probabilistic context-free grammar (PCFG) is CFG which additionally provides the probability of each rule expansion (i.e. column 2 of the above tables). A PCFG can specify not only that the sentence can be generated, but also that there are different probabilities associated with each tree structure. Note that probabilities expansion rules for a symbol sum to 1, for example, P(DET-> the) + P(DET -> a) = 1.\n",
    "\n",
    "Run the following cell to define the variable `pcfg`."
   ]
  },
  {
   "cell_type": "code",
   "execution_count": null,
   "metadata": {
    "deletable": false,
    "nbgrader": {
     "checksum": "067f758c0422d1f6305929e163e3c44b",
     "grade": false,
     "grade_id": "pcfg",
     "locked": true,
     "solution": false
    }
   },
   "outputs": [],
   "source": [
    "pcfg = [ ('S',['NP','VP'], 1), \n",
    "    ('NP',['DET','N'], .7),\n",
    "    ('NP',['PPN','N'], .3),    \n",
    "    ('VP',['ADV','V'], .4),\n",
    "    ('VP', ['V', 'PP'], .5),\n",
    "    ('VP',['V', 'ADV'], .1),    \n",
    "    ('PP',['P', 'NP'], 1),\n",
    "\n",
    "    #terminals\n",
    "    ('N',['cat'], .5),    \n",
    "    ('N',['dog'], .5),    \n",
    "    ('V',['runs'], .8),    \n",
    "    ('V',['barks'], .2),    \n",
    "    ('ADJ',['black'], .7),\n",
    "    ('ADV',['quickly'], .1),\n",
    "    ('ADV',['slowly'], .9),    \n",
    "    ('ADJ',['white'], .3),    \n",
    "    ('DET',['the'], .6),\n",
    "    ('DET',['a'], .4),\n",
    "    ('PPN',['his'], .5),\n",
    "    ('PPN',['her'], .5),\n",
    "    ('P',['by'], .6),\n",
    "    ('P',['with'], .4),\n",
    "]"
   ]
  },
  {
   "cell_type": "markdown",
   "metadata": {
    "deletable": false,
    "nbgrader": {}
   },
   "source": [
    "Note that the rules here all have binary expansions—there are always two terms on the right hand side, like NP -> DET N, S -> NP VP. While this limits the expressive capacities of the grammar, it simplifies the computations in Part B."
   ]
  },
  {
   "cell_type": "markdown",
   "metadata": {
    "collapsed": true,
    "deletable": false,
    "nbgrader": {}
   },
   "source": [
    "---\n",
    "## Part A"
   ]
  },
  {
   "cell_type": "markdown",
   "metadata": {
    "deletable": false,
    "nbgrader": {}
   },
   "source": [
    "Using the probabilities in the PCFG, it is possible to sample from the probability distribution over sentences in the langauge. This is done by applying the rewrite rules according to probabilities listed in the PCFG."
   ]
  },
  {
   "cell_type": "markdown",
   "metadata": {
    "deletable": false,
    "nbgrader": {}
   },
   "source": [
    "<div class=\"alert alert-success\">Complete the function `rewriteString` that outputs a sentence and a probability according to the probabilities of the provided PCFG. Remember that we can think of a PCFG as a set of rewrite rules for transforming a start symbol, in this case S, into a set of terminals. `rewriteString` should be recursively defined: the function should call itself in the process of rewriting the string. You will modify `sentence` and `probs` each time the function is called. You may wish to use `np.random.choice` to choose among a set of options weighed by a vector of probabilities.</div>"
   ]
  },
  {
   "cell_type": "markdown",
   "metadata": {
    "deletable": false,
    "nbgrader": {}
   },
   "source": [
    "<div class=\"alert alert-danger\">`rewriteString` should be a stochastic function that produces a variety of different output sentences based on chance. Intuitively, it should produce the most probable sentences more frequently than the least probable sentences.</div>"
   ]
  },
  {
   "cell_type": "code",
   "execution_count": null,
   "metadata": {
    "deletable": false,
    "nbgrader": {
     "checksum": "85b3c7ac4a7653e240e0ef11803cba2e",
     "grade_id": "rewriteString",
     "solution": true
    }
   },
   "outputs": [],
   "source": [
    "def rewriteString(sentence, probs, pcfg):        \n",
    "    \"\"\"\n",
    "    Constructs a sentence according to the probabilities in the PCFG\n",
    "    \n",
    "    Parameters\n",
    "    ----------\n",
    "    \n",
    "    sentence: string\n",
    "        String to rewrite (this will be the start symbol \n",
    "        'S' when first called)\n",
    "    probs: list\n",
    "        list of probabilities of expansions (this will be an \n",
    "        empty list when first called)\n",
    "    pcfg: list of tuples that encodes the grammar\n",
    "        Each list item is a tuple of (input, output, probability)\n",
    "        input is a string, output is a list of two strings, and\n",
    "        probability is a float\n",
    " \n",
    "    Returns\n",
    "    -------\n",
    "    a tuple with a sentence with each word as an entry in a list\n",
    "    and the probability as a float\n",
    "    \"\"\"\n",
    "    \n",
    "    # YOUR CODE HERE\n",
    "    raise NotImplementedError()"
   ]
  },
  {
   "cell_type": "code",
   "execution_count": null,
   "metadata": {
    "deletable": false,
    "nbgrader": {}
   },
   "outputs": [],
   "source": [
    "print(rewriteString(['S'],[], pcfg))"
   ]
  },
  {
   "cell_type": "code",
   "execution_count": null,
   "metadata": {
    "deletable": false,
    "nbgrader": {}
   },
   "outputs": [],
   "source": [
    "# add your own test cases here!"
   ]
  },
  {
   "cell_type": "code",
   "execution_count": null,
   "metadata": {
    "deletable": false,
    "nbgrader": {
     "checksum": "717fcdfd55d23ea372e1c66d1e6c076d",
     "grade": true,
     "grade_id": "test_rewriteString",
     "points": 0.25
    }
   },
   "outputs": [],
   "source": [
    "from nose.tools import assert_equal\n",
    "\n",
    "for i in range(50):\n",
    "    testSentence = (rewriteString(['S'],[], pcfg))\n",
    "    assert(type(testSentence[0]) is list)\n",
    "    assert(isinstance(testSentence[1], float))\n",
    "    assert(len(testSentence[0]) >= 4)\n",
    "    assert(testSentence[1] < .1)\n",
    "\n",
    "rewriteStringSuccess = True    \n",
    "    \n",
    "print(\"Success!\")    "
   ]
  },
  {
   "cell_type": "markdown",
   "metadata": {
    "deletable": false,
    "nbgrader": {}
   },
   "source": [
    "---\n",
    "## Part B"
   ]
  },
  {
   "cell_type": "markdown",
   "metadata": {
    "deletable": false,
    "nbgrader": {}
   },
   "source": [
    "While a CFG allows us to find all of the possible parses of a given sentence, a PCFG additionally allows us to assign probabilities to all of the parses. The CYK (or alternatively CKY) algorithm uses dynamic programming to search over the space of possible trees, either aggregating probabilities (the forward algorithm) or finding the best parse (Viterbi). Here you will  implement a parser that uses CYK to find the best parse of a given sentence.\n",
    "\n",
    "Consult the following resources for information on the motivation and implementation of the CYK algorithm:\n",
    "\n",
    "*Overview of Statistical Parsing (powerpoint)* <br />\n",
    "http://www.cs.utexas.edu/~mooney/cs388/slides/stats-parsing.ppt<br />\n",
    "*Explanation and Pseudocode for CYK (video)*<br />\n",
    "https://www.youtube.com/watch?v=hq80J8kBg-Y<br />\n",
    "*Worked example for CYK (video)* <br />\n",
    "https://www.youtube.com/watch?v=MiEKnFyErbQ<br />"
   ]
  },
  {
   "cell_type": "markdown",
   "metadata": {
    "deletable": false,
    "nbgrader": {}
   },
   "source": [
    "<div class=\"alert alert-danger\">Note that the grammar provided above contains only binary expansion rules (e.g. S -> NP VP), which means you do not need to build in rules to handle unary rewrite rules (e.g. NP -> N). This should simplify the algorithm considerably.</div>"
   ]
  },
  {
   "cell_type": "markdown",
   "metadata": {
    "deletable": false,
    "nbgrader": {}
   },
   "source": [
    "We have provided the function `makeTree`, as well as defined some of the data types you should use within `getHighestProbParse`. In `getHighestProbParse`, `score` and `back` are both n-by-n \"charts\" (see above references) where each entry is a dictionary; each dictionary contains all nonterminals as keys. For `score`, the values of the dictionaries are initialized to 0; some of these values need to be updated as you fill out the chart. `back` should contain a list of corresponding backtraces so that you can reconstruct the best parse at the end; these dictionaries are initialized to `None` but may need to be replaced."
   ]
  },
  {
   "cell_type": "code",
   "execution_count": null,
   "metadata": {
    "deletable": false,
    "nbgrader": {
     "checksum": "f9a965e72de953a45d338925c809102f",
     "grade": false,
     "grade_id": "makeTree",
     "locked": true,
     "solution": false
    }
   },
   "outputs": [],
   "source": [
    "def makeTree(back, begin, end, A, depth = 0):                    \n",
    "    \"\"\"\n",
    "    Returns a parse given the backtraces in back.\n",
    "    \n",
    "    Parameters\n",
    "    ----------\n",
    "    \n",
    "    back: a list of lists where each entry is a dictionary\n",
    "            each key in the dictionary is the LHS of a nonterminal\n",
    "    begin : integer start index of the tree to construct\n",
    "    end : integer end index of the tree to construct\n",
    "    A: the label of the top node in the current tree\n",
    "    depth: depth of the recursion, as an integer\n",
    "        \n",
    "    Returns\n",
    "    -------\n",
    "    a list with an arbitrary structure of embedded lists, indicating\n",
    "    the best syntactic parse as stored in back\n",
    "\n",
    "    \"\"\"\n",
    "    backptrs = back[begin][end][A]    \n",
    "    if len(backptrs) == 2:        \n",
    "        return [A, backptrs[1][0]]        \n",
    "    elif len(backptrs) == 3:        \n",
    "        [split, B, C] = backptrs        \n",
    "        childB = makeTree(back, begin, split, B, depth+1)\n",
    "        childC = makeTree(back, split+1, end, C, depth+1)\n",
    "        return [A, [childB, childC]]"
   ]
  },
  {
   "cell_type": "code",
   "execution_count": null,
   "metadata": {
    "deletable": false,
    "nbgrader": {
     "checksum": "5c7e49ced16f0558faf006dfb351b856",
     "grade_id": "getHighestProbParse",
     "solution": true
    }
   },
   "outputs": [],
   "source": [
    "def getHighestProbParse(s, pcfg):\n",
    "    \"\"\"\n",
    "    Returns the highest probability parse and its corresponding probability\n",
    "    \n",
    "    Parameters\n",
    "    ----------\n",
    "    \n",
    "    s: the sentence to be parsed\n",
    "    pcfg: list of tuples that encodes the grammar\n",
    "        Each list item is a tuple of (input, output, probability)\n",
    "        input is a string, output is a list of two strings, and\n",
    "        probability is a float\n",
    "        \n",
    "    Returns\n",
    "    -------\n",
    "    a dict with two entries. The key 'parse' should contain the highest \n",
    "    probability parse, in bracket notation (use makeTree to reconstruct the\n",
    "    best parse from the variable back). The key 'prob' should contain the \n",
    "    probability of the best parse.\n",
    "\n",
    "    \"\"\"\n",
    "    # provided variables\n",
    "    nonTerms = list(set([x[0] for x in pcfg]))\n",
    "    numWords = len(s)\n",
    "    numNonTerms = len(nonTerms)\n",
    "    # initialize charts, filled with dicts\n",
    "    d = dict(zip(nonTerms, [0]*len(nonTerms)))\n",
    "    score = [[d.copy() for x in range(numWords)] for x in range(numWords)] \n",
    "    d2 = dict(zip(nonTerms, [None]*len(nonTerms)))\n",
    "    back = [[d2.copy() for x in range(numWords)] for x in range(numWords)]\n",
    "    \n",
    "    # YOUR CODE HERE\n",
    "    raise NotImplementedError()"
   ]
  },
  {
   "cell_type": "code",
   "execution_count": null,
   "metadata": {
    "deletable": false,
    "nbgrader": {}
   },
   "outputs": [],
   "source": [
    "print(getHighestProbParse(['his', 'cat', 'runs', 'with', 'a', 'dog'], pcfg))\n",
    "print(getHighestProbParse(['the','dog','runs','quickly'], pcfg))\n",
    "print(getHighestProbParse(['the','dog','slowly','barks'], pcfg))\n",
    "print(getHighestProbParse(['the','dog','quickly','runs'], pcfg))\n",
    "print(getHighestProbParse(['the','cat','runs','slowly'], pcfg))"
   ]
  },
  {
   "cell_type": "code",
   "execution_count": null,
   "metadata": {
    "deletable": false,
    "nbgrader": {}
   },
   "outputs": [],
   "source": [
    "# add your own test cases here!"
   ]
  },
  {
   "cell_type": "code",
   "execution_count": null,
   "metadata": {
    "deletable": false,
    "nbgrader": {
     "checksum": "2ae46129c6e34cda084643f89e6df2c7",
     "grade": true,
     "grade_id": "test_getHighestProbParse",
     "points": 0.75
    }
   },
   "outputs": [],
   "source": [
    "from numpy.testing import assert_allclose\n",
    "\n",
    "# test hard-coded values\n",
    "testSentences = [['his', 'cat', 'runs', 'with', 'a', 'dog'],\n",
    "             ['the','dog','runs','quickly'],\n",
    "             ['the','dog','slowly','barks'],\n",
    "             ['the','dog','quickly','runs'],\n",
    "             ['the','cat','runs','slowly']]\n",
    "testProbabilities = [0.00168, 0.00168, 0.01512, .00672, .01512]\n",
    "\n",
    "for i in range(len(testSentences)):\n",
    "    assert_allclose(getHighestProbParse(testSentences[i], pcfg)['prob'], \n",
    "        testProbabilities[i])\n",
    "    \n",
    "# sample using rewrite string, then check probability of parse. \n",
    "# best tree is always >= probability from rewriteString (there may be\n",
    "# a higher probability way of generating a given string)\n",
    "\n",
    "for i in range(100):\n",
    "    if rewriteStringSuccess:        \n",
    "        testSentence,testProb = rewriteString(['S'],[], pcfg)    \n",
    "        hpp = getHighestProbParse(testSentence, pcfg)\n",
    "        assert_allclose(hpp['prob'],testProb)\n",
    "        #if there is ambiguity in the grammar\n",
    "        #assert(allclose(hpp['prob'],testProb) or hpp['prob'] < testProb)\n",
    "\n",
    "print(\"Success!\")"
   ]
  },
  {
   "cell_type": "markdown",
   "metadata": {
    "deletable": false,
    "nbgrader": {}
   },
   "source": [
    "---"
   ]
  },
  {
   "cell_type": "markdown",
   "metadata": {
    "deletable": false,
    "nbgrader": {}
   },
   "source": [
    "Before turning this problem in remember to do the following steps:\n",
    "\n",
    "1. **Restart the kernel** (Kernel$\\rightarrow$Restart)\n",
    "2. **Run all cells** (Cell$\\rightarrow$Run All)\n",
    "3. **Save** (File$\\rightarrow$Save and Checkpoint)"
   ]
  },
  {
   "cell_type": "markdown",
   "metadata": {
    "deletable": false,
    "nbgrader": {
     "cell_type": "release"
    }
   },
   "source": [
    "<div class=\"alert alert-danger\">After you have completed these three steps, ensure that the following cell has printed \"No errors\". If it has <b>not</b> printed \"No errors\", then your code has a bug in it and has thrown an error! Make sure you fix this error before turning in your problem set.</div>"
   ]
  },
  {
   "cell_type": "code",
   "execution_count": null,
   "metadata": {
    "deletable": false,
    "nbgrader": {}
   },
   "outputs": [],
   "source": [
    "print(\"No errors!\")"
   ]
  }
 ],
 "metadata": {
  "kernelspec": {
   "display_name": "Python 3",
   "language": "python",
   "name": "python3"
  },
  "language_info": {
   "codemirror_mode": {
    "name": "ipython",
    "version": 3
   },
   "file_extension": ".py",
   "mimetype": "text/x-python",
   "name": "python",
   "nbconvert_exporter": "python",
   "pygments_lexer": "ipython3",
   "version": "3.4.3"
  }
 },
 "nbformat": 4,
 "nbformat_minor": 1
}
