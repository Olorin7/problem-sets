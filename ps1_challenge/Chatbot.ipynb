{
 "cells": [
  {
   "cell_type": "markdown",
   "metadata": {
    "deletable": false,
    "nbgrader": {
     "cell_type": "release"
    }
   },
   "source": [
    "Make sure you fill in any place that says `YOUR CODE HERE` or \"YOUR ANSWER HERE\", as well as your collaborators below:"
   ]
  },
  {
   "cell_type": "code",
   "execution_count": null,
   "metadata": {
    "deletable": false,
    "nbgrader": {
     "cell_type": "release"
    }
   },
   "outputs": [],
   "source": [
    "COLLABORATORS = \"\""
   ]
  },
  {
   "cell_type": "markdown",
   "metadata": {
    "deletable": false,
    "nbgrader": {}
   },
   "source": [
    "---"
   ]
  },
  {
   "cell_type": "code",
   "execution_count": null,
   "metadata": {
    "deletable": false,
    "nbgrader": {}
   },
   "outputs": [],
   "source": [
    "import numpy as np"
   ]
  },
  {
   "cell_type": "markdown",
   "metadata": {
    "deletable": false,
    "nbgrader": {}
   },
   "source": [
    "Change the following variable to `True` if you want us to grade this challenge problem.\n",
    "\n",
    "**IMPORTANT**: You can only get points for _one_ challenge problem per problem set. This means that even if you complete both challenge problems on this problem set, we will only count your best score between the two."
   ]
  },
  {
   "cell_type": "code",
   "execution_count": null,
   "metadata": {
    "deletable": false,
    "nbgrader": {}
   },
   "outputs": [],
   "source": [
    "SUBMIT_CHALLENGE = False"
   ]
  },
  {
   "cell_type": "markdown",
   "metadata": {
    "deletable": false,
    "nbgrader": {}
   },
   "source": [
    "----\n",
    "\n",
    "## Part A (1 point)"
   ]
  },
  {
   "cell_type": "markdown",
   "metadata": {
    "deletable": false,
    "nbgrader": {}
   },
   "source": [
    "One of the places where production systems are still widely used is in making chatbots, which simulate human conversation. A chatbot production system consists of a set of rules that are triggered by keywords or phrases that appear in the input. For example, one rule might be \"IF the input contains 'hello' THEN say 'hello'\"."
   ]
  },
  {
   "cell_type": "markdown",
   "metadata": {
    "deletable": false,
    "nbgrader": {}
   },
   "source": [
    "In this challenge problem, you will write a simple chatbot with at least 10 productions, capable of receiving sentences as input and producing responses. Your bot should be implemented as a function, `bot`, that takes in an input string and responds with an output string."
   ]
  },
  {
   "cell_type": "markdown",
   "metadata": {
    "deletable": false,
    "nbgrader": {}
   },
   "source": [
    "The following code runs a live conversation between you and the chatbot. The conversation is over when either of you responds with a string containing `bye` (e.g., \"Goodbye.\", \"byebye\", \"goodbye\")."
   ]
  },
  {
   "cell_type": "code",
   "execution_count": null,
   "metadata": {
    "deletable": false,
    "nbgrader": {}
   },
   "outputs": [],
   "source": [
    "def chat(bot):\n",
    "    ongoing = True\n",
    "    while ongoing:\n",
    "        user_input = input(\"You: \")\n",
    "        bot_output = bot(user_input)\n",
    "        print(\"Bot: {}\".format(bot_output))\n",
    "    \n",
    "        if (\"bye\" in user_input.lower()) or (\"bye\" in bot_output):\n",
    "            ongoing = False"
   ]
  },
  {
   "cell_type": "markdown",
   "metadata": {
    "deletable": false,
    "nbgrader": {}
   },
   "source": [
    "Here is a simple bot that says hi."
   ]
  },
  {
   "cell_type": "code",
   "execution_count": null,
   "metadata": {
    "deletable": false,
    "nbgrader": {}
   },
   "outputs": [],
   "source": [
    "def hello_bot(user_input):\n",
    "    return \"Hello.\""
   ]
  },
  {
   "cell_type": "markdown",
   "metadata": {
    "deletable": false,
    "nbgrader": {}
   },
   "source": [
    "Talk to the bot a bit and then end the conversatoin."
   ]
  },
  {
   "cell_type": "code",
   "execution_count": null,
   "metadata": {
    "deletable": false,
    "nbgrader": {}
   },
   "outputs": [],
   "source": [
    "# Uncomment the following line.\n",
    "#chat(hello_bot)"
   ]
  },
  {
   "cell_type": "markdown",
   "metadata": {
    "deletable": false,
    "nbgrader": {}
   },
   "source": [
    "You can use any tools you'd like to create your bot. Here are a few ideas of functionality that you might include, with pointers to some of the Python modules that would be most useful in implementing that functionality. You'll have to remember to import any modules you want to use.\n",
    "1. A memory that allows the bot to notice when the user repeats a sentence ( https://docs.python.org/3/tutorial/inputoutput.html#reading-and-writing-files).\n",
    "1. The ability to answer math questions, maybe even with human-like timing ( https://docs.python.org/3/library/time.html#time.sleep).\n",
    "1. Phone number recognition (https://docs.python.org/3/library/re.html).\n",
    "1. A \"super-duper-off\" winner.\n",
    "1. Some form of stochasticity (https://docs.python.org/3.0/library/random.html)."
   ]
  },
  {
   "cell_type": "markdown",
   "metadata": {
    "deletable": false,
    "nbgrader": {}
   },
   "source": [
    "<div class=\"alert alert-success\">\n",
    "Edit the function `bot`, implementing a chat bot with at least 10 production rules.\n",
    "</div>"
   ]
  },
  {
   "cell_type": "code",
   "execution_count": null,
   "metadata": {
    "deletable": false,
    "nbgrader": {
     "checksum": "ba943827ab812c9ee610cee792ab649d",
     "grade": false,
     "grade_id": "bot",
     "locked": false,
     "solution": true
    }
   },
   "outputs": [],
   "source": [
    "def bot(user_input):\n",
    "    \"\"\"\n",
    "    Hold a conversation, responding with a string containing \"bye\" to sign off.\n",
    "    Your answer should not include spaces.\n",
    "\n",
    "    Returns\n",
    "    -------\n",
    "    a string representing a sentence\n",
    "\n",
    "    \"\"\"\n",
    "    # YOUR CODE HERE\n",
    "    raise NotImplementedError()"
   ]
  },
  {
   "cell_type": "markdown",
   "metadata": {
    "deletable": false,
    "nbgrader": {}
   },
   "source": [
    "Here is a cell where you can test out your bot:"
   ]
  },
  {
   "cell_type": "code",
   "execution_count": null,
   "metadata": {
    "deletable": false,
    "nbgrader": {}
   },
   "outputs": [],
   "source": [
    "# Uncomment the following line.\n",
    "#chat(bot)"
   ]
  },
  {
   "cell_type": "code",
   "execution_count": null,
   "metadata": {
    "deletable": false,
    "nbgrader": {
     "checksum": "cc88454de894b16086c530104d0a78bd",
     "grade": true,
     "grade_id": "check_for_submit",
     "points": 1
    }
   },
   "outputs": [],
   "source": [
    "# Check whether you want us to grade the bot. \n",
    "# If this cell passes, we'll grade it manually; \n",
    "# otherwise we won't even look at it.\n",
    "try:\n",
    "    bot(\"bye\")\n",
    "except:\n",
    "    pass\n",
    "\n",
    "assert SUBMIT_CHALLENGE"
   ]
  },
  {
   "cell_type": "markdown",
   "metadata": {
    "deletable": false,
    "nbgrader": {}
   },
   "source": [
    "---"
   ]
  },
  {
   "cell_type": "markdown",
   "metadata": {
    "deletable": false,
    "nbgrader": {}
   },
   "source": [
    "Before turning this problem in remember to do the following steps:\n",
    "\n",
    "1. **Restart the kernel** (Kernel$\\rightarrow$Restart)\n",
    "2. **Run all cells** (Cell$\\rightarrow$Run All)\n",
    "3. **Save** (File$\\rightarrow$Save and Checkpoint)"
   ]
  },
  {
   "cell_type": "markdown",
   "metadata": {
    "deletable": false,
    "nbgrader": {
     "cell_type": "release"
    }
   },
   "source": [
    "<div class=\"alert alert-danger\">After you have completed these three steps, ensure that the following cell has printed \"No errors\". If it has <b>not</b> printed \"No errors\", then your code has a bug in it and has thrown an error! Make sure you fix this error before turning in your problem set.</div>"
   ]
  },
  {
   "cell_type": "code",
   "execution_count": null,
   "metadata": {
    "deletable": false,
    "nbgrader": {}
   },
   "outputs": [],
   "source": [
    "print(\"No errors!\")"
   ]
  }
 ],
 "metadata": {
  "kernelspec": {
   "display_name": "Python 3",
   "language": "python",
   "name": "python3"
  },
  "language_info": {
   "codemirror_mode": {
    "name": "ipython",
    "version": 3
   },
   "file_extension": ".py",
   "mimetype": "text/x-python",
   "name": "python",
   "nbconvert_exporter": "python",
   "pygments_lexer": "ipython3",
   "version": "3.5.1"
  }
 },
 "nbformat": 4,
 "nbformat_minor": 0
}
