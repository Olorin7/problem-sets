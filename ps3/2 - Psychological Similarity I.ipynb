{
 "cells": [
  {
   "cell_type": "markdown",
   "metadata": {
    "deletable": false,
    "nbgrader": {
     "cell_type": "release"
    }
   },
   "source": [
    "Make sure you fill in any place that says `YOUR CODE HERE` or \"YOUR ANSWER HERE\", as well as your collaborators below:"
   ]
  },
  {
   "cell_type": "code",
   "execution_count": null,
   "metadata": {
    "deletable": false,
    "nbgrader": {
     "cell_type": "release"
    }
   },
   "outputs": [],
   "source": [
    "COLLABORATORS = \"\""
   ]
  },
  {
   "cell_type": "markdown",
   "metadata": {
    "deletable": false,
    "nbgrader": {}
   },
   "source": [
    "---"
   ]
  },
  {
   "cell_type": "code",
   "execution_count": null,
   "metadata": {
    "deletable": false
   },
   "outputs": [],
   "source": [
    "%matplotlib inline\n",
    "import numpy as np\n",
    "import matplotlib.pyplot as plt\n",
    "\n",
    "# special imports for computing mds and dendrograms\n",
    "from representations import mds, plot_dendrogram"
   ]
  },
  {
   "cell_type": "markdown",
   "metadata": {
    "deletable": false
   },
   "source": [
    "In this problem, we will explore the MDS (Multi-Dimensional Scaling) algorithm, which is is a procedure for transforming an array of pairwise distances back into the points that generated them. MDS has additionally been used by cognitive scientists to create spatial representations of the similarities among a set of stimuli."
   ]
  },
  {
   "cell_type": "markdown",
   "metadata": {
    "deletable": false
   },
   "source": [
    "---\n",
    "## Part A (1 point)"
   ]
  },
  {
   "cell_type": "markdown",
   "metadata": {
    "deletable": false
   },
   "source": [
    "Alyssa P. Hacker and Ben Bitdiddle are playing a game. Ben thinks of a shape, and then finds the distances between all the vertices of the shape. He then tells Alyssa what the distances between the vertices are, and Alyssa has to guess what the shape is. To begin, Ben gives Alyssa the following pairwise distances:"
   ]
  },
  {
   "cell_type": "code",
   "execution_count": null,
   "metadata": {
    "deletable": false
   },
   "outputs": [],
   "source": [
    "shape_data = np.load(\"data/shape.npy\")\n",
    "shape_data"
   ]
  },
  {
   "cell_type": "markdown",
   "metadata": {
    "deletable": false
   },
   "source": [
    "Alyssa knows that just by looking at the distances between the points, she can't tell what the shape originally was. However, Alyssa took CogSci 131 and therefore also knows that she can use the MDS (Multi-Dimensional Scaling) algorithm to transform these distances into points.\n",
    "\n",
    "We have provided you with a function, `mds`, which performs the MDS algorithm. Look at the documentation for the function to figure out how to call it:"
   ]
  },
  {
   "cell_type": "code",
   "execution_count": null,
   "metadata": {
    "deletable": false
   },
   "outputs": [],
   "source": [
    "mds??"
   ]
  },
  {
   "cell_type": "markdown",
   "metadata": {
    "deletable": false
   },
   "source": [
    "<div class=\"alert alert-success\">Then, in the following cell, write code to perform MDS on the shape data that Ben gave Alyssa. Save the output of the MDS algorithm into a variable called `shape_points`, and then plot the points as black dots. Make sure you include a title for your plot. Additionally, set the axis limits to `[-1, 1]` for both the x-axis and the y-axis. Your solution can be done in 5 lines of code.</div>"
   ]
  },
  {
   "cell_type": "markdown",
   "metadata": {
    "deletable": false
   },
   "source": [
    "_Hint:_ For a quick refresher on constructing plots with matplotlib, take a look at the Problem Set 0 notebook \"Manipulating and Plotting Data\" or the tutorial [here](http://nbviewer.ipython.org/github/jrjohansson/scientific-python-lectures/blob/master/Lecture-4-Matplotlib.ipynb)."
   ]
  },
  {
   "cell_type": "code",
   "execution_count": null,
   "metadata": {
    "deletable": false,
    "nbgrader": {
     "checksum": "866a27b1a7ecad57d93e9f22acc27963",
     "grade": false,
     "grade_id": "shape_plot",
     "locked": false,
     "schema_version": 1,
     "solution": true
    }
   },
   "outputs": [],
   "source": [
    "# load the data\n",
    "shape_data = np.load(\"data/shape.npy\")\n",
    "\n",
    "# create the figure\n",
    "fig, axis = plt.subplots()\n",
    "\n",
    "# YOUR CODE HERE\n",
    "raise NotImplementedError()"
   ]
  },
  {
   "cell_type": "code",
   "execution_count": null,
   "metadata": {
    "deletable": false,
    "nbgrader": {
     "checksum": "1d23565a37042028ee16d96e650fc6a1",
     "grade": true,
     "grade_id": "check_shape_plot",
     "locked": false,
     "points": 0.15,
     "schema_version": 1,
     "solution": false
    }
   },
   "outputs": [],
   "source": [
    "\"\"\"Check that MDS was correctly used on the shape data and that the points were plotted.\"\"\"\n",
    "from numpy.testing import assert_array_equal, assert_almost_equal\n",
    "from nose.tools import assert_equal, assert_not_equal\n",
    "from plotchecker import ScatterPlotChecker\n",
    "\n",
    "# check that shape_data hasn't changed\n",
    "assert_array_equal(shape_data, np.load(\"data/shape.npy\"))\n",
    "\n",
    "# check that shape points has the correct shape and type\n",
    "assert_equal(shape_points.shape, (10, 2), \"incorrect shape of shape_points\")\n",
    "assert_equal(shape_points.dtype, np.float64, \"incorrect data type of shape_points\")\n",
    "\n",
    "# check the correct data was plotted\n",
    "pc = ScatterPlotChecker(axis)\n",
    "pc.assert_x_data_equal(shape_points[:, 0])\n",
    "pc.assert_y_data_equal(shape_points[:, 1])\n",
    "\n",
    "# check that the plotted data has the correct values\n",
    "vals = [(1, 0.60353738), (4, 0.4613193), (-2, -0.24098396), (-6, 0.10159001), (-10, 0.10731944)]\n",
    "for (idx, val) in vals:\n",
    "    assert_almost_equal(shape_points.flatten()[idx], val, 6, \"incorrect entry within kinship_points\")\n",
    "\n",
    "# check that black circles were used\n",
    "pc.assert_colors_equal('k')\n",
    "\n",
    "# check that a title was included\n",
    "pc.assert_title_exists()\n",
    "\n",
    "# check that axis limits were set\n",
    "pc.assert_xlim_equal((-1, 1))\n",
    "pc.assert_ylim_equal((-1, 1))\n",
    "\n",
    "print(\"Success!\")"
   ]
  },
  {
   "cell_type": "markdown",
   "metadata": {
    "deletable": false
   },
   "source": [
    "<div class=\"alert alert-success\">What is the shape that Ben was thinking of?</div>"
   ]
  },
  {
   "cell_type": "markdown",
   "metadata": {
    "deletable": false,
    "nbgrader": {
     "checksum": "3007c0f48ed64b2a9406f849472d8f1f",
     "grade": true,
     "grade_id": "shape_game_answer",
     "locked": false,
     "points": 0.1,
     "schema_version": 1,
     "solution": true
    }
   },
   "source": [
    "YOUR ANSWER HERE"
   ]
  },
  {
   "cell_type": "markdown",
   "metadata": {
    "deletable": false
   },
   "source": [
    "<div class=\"alert alert-success\">Give a brief explanation of what the MDS algorithm does. That is, what is it doing when it goes from a $n\\times n$ array of distances to an array of $n$  2D points?</div>"
   ]
  },
  {
   "cell_type": "markdown",
   "metadata": {
    "deletable": false,
    "nbgrader": {
     "checksum": "7bb7af827e22a21dd2f087b67b32a18c",
     "grade": true,
     "grade_id": "explain_mds",
     "locked": false,
     "points": 0.75,
     "schema_version": 1,
     "solution": true
    }
   },
   "source": [
    "YOUR ANSWER HERE"
   ]
  },
  {
   "cell_type": "markdown",
   "metadata": {
    "deletable": false
   },
   "source": [
    "---\n",
    "## Part B (1 point)"
   ]
  },
  {
   "cell_type": "markdown",
   "metadata": {
    "deletable": false
   },
   "source": [
    "Satisfied that she was able to correctly guess Ben's shape, Alyssa starts thinking about other cool ways that the MDS algorithm could be used. She remembers talking about various notions of *similarity* from CogSci 131, and wonders if the MDS algorithm could be used as a way to represent psychological similarity.\n",
    "\n",
    "Being the aspiring cognitive scientist that she is, Alyssa goes ahead and collects some similarity judgments about different kinds of musical genres. That is, she asks several people to rank the similarity of (for example) jazz piano and heavy metal rock, averages all the responses, and then scales the data to lie between 0 and 1. She saves her similarity data in the file `music_similarities.npz` and the names of musical genres in `music_list.npz`"
   ]
  },
  {
   "cell_type": "code",
   "execution_count": null,
   "metadata": {
    "deletable": false
   },
   "outputs": [],
   "source": [
    "music_similarities = np.load(\"data/music_similarities.npz\")['data']\n",
    "music_names = np.load(\"data/music_list.npz\")['data']"
   ]
  },
  {
   "cell_type": "markdown",
   "metadata": {
    "deletable": false
   },
   "source": [
    "This music_similarities file contains Alyssa's similarity matrix, and the music_names file contains the names of the music she used in her experiment on musical similarity."
   ]
  },
  {
   "cell_type": "code",
   "execution_count": null,
   "metadata": {
    "deletable": false
   },
   "outputs": [],
   "source": [
    "music_names"
   ]
  },
  {
   "cell_type": "markdown",
   "metadata": {
    "deletable": false
   },
   "source": [
    "The other is a $12\\times 12$ matrix of similarities where index $(i,j)$ lists the similarity between the kinship term in `names[i]` and the kinship term in `names[j]`:"
   ]
  },
  {
   "cell_type": "code",
   "execution_count": null,
   "metadata": {
    "deletable": false
   },
   "outputs": [],
   "source": [
    "music_similarities"
   ]
  },
  {
   "cell_type": "markdown",
   "metadata": {
    "deletable": false
   },
   "source": [
    "Alyssa remembers that the MDS algorithm takes pairwise *distances*; however, her behavioral data is of pairwise *similarities*. Thus, Alyssa must transform her data into *dissimilarities*. Because the data lies between 0 and 1, a simple way to do this is just to subtract the similarities from 1."
   ]
  },
  {
   "cell_type": "markdown",
   "metadata": {
    "deletable": false
   },
   "source": [
    "<div class=\"alert alert-success\">Help Alyssa visualize her musical similarity data by writing code to compute the 2D points from the similarity data, and plot the points along with labels stating which points correspond to which music genres. Store the output of the `mds` algorithm in a variable called `music_points`. Don't forget to include a title for your plot!</div>"
   ]
  },
  {
   "cell_type": "markdown",
   "metadata": {
    "deletable": false
   },
   "source": [
    "*Hint*: you can add a text label using the `axis.text` command. You may also want to prepend some spaces to the beginning of each label so that they don't overlap with the points!"
   ]
  },
  {
   "cell_type": "code",
   "execution_count": null,
   "metadata": {
    "deletable": false
   },
   "outputs": [],
   "source": [
    "# get a handle to an axis object, then close the plot\n",
    "axis = plt.gca()\n",
    "plt.close()\n",
    "\n",
    "# look up documentation on axis.text\n",
    "axis.text?"
   ]
  },
  {
   "cell_type": "code",
   "execution_count": null,
   "metadata": {
    "deletable": false,
    "nbgrader": {
     "checksum": "c1d294db50b02b79868d4c810152afa9",
     "grade": false,
     "grade_id": "kinship_mds",
     "locked": false,
     "schema_version": 1,
     "solution": true
    }
   },
   "outputs": [],
   "source": [
    "music_names = np.load(\"data/music_list.npz\")['data']\n",
    "music_similarities = np.load(\"data/music_similarities.npz\")['data']\n",
    "\n",
    "# create the figure\n",
    "fig, axis = plt.subplots()\n",
    "\n",
    "# YOUR CODE HERE\n",
    "raise NotImplementedError()"
   ]
  },
  {
   "cell_type": "code",
   "execution_count": null,
   "metadata": {
    "deletable": false,
    "nbgrader": {
     "checksum": "ae36627ddc2bfaf74a82aeb1222d07c4",
     "grade": true,
     "grade_id": "test_kinship_mds",
     "locked": false,
     "points": 1,
     "schema_version": 1,
     "solution": false
    }
   },
   "outputs": [],
   "source": [
    "\"\"\"Check that MDS was correctly used on the music data and that the points were plotted.\"\"\"\n",
    "from numpy.testing import assert_array_equal, assert_almost_equal\n",
    "from nose.tools import assert_equal, assert_not_equal\n",
    "\n",
    "names = np.load(\"data/music_list.npz\")['data']\n",
    "similarities = np.load(\"data/music_similarities.npz\")['data']\n",
    "\n",
    "assert_equal(list(music_names), list(names), \"music_names array has changed\")\n",
    "assert_array_equal(music_similarities, similarities, \"music_similarities array has changed\")\n",
    "\n",
    "# check that music_points has the correct shape and type\n",
    "assert_equal(music_points.shape, (12, 2), \"incorrect shape of music_points\")\n",
    "assert_equal(music_points.dtype, np.float64, \"incorrect data type of music_points\")\n",
    "\n",
    "# check the correct data was plotted\n",
    "pc = ScatterPlotChecker(axis)\n",
    "pc.assert_x_data_equal(music_points[:, 0])\n",
    "pc.assert_y_data_equal(music_points[:, 1])\n",
    "\n",
    "# check that the plotted data has the correct values\n",
    "vals = [(0, -0.59924511), (1, 0.19729266), (2, -0.21593404), (3, 0.09087466), (4, 0.66645917)]\n",
    "for (idx, val) in vals:\n",
    "    assert_almost_equal(music_points.flatten()[idx], val, 6, \"incorrect entry within music_points\")\n",
    "\n",
    "# check that black circles were used\n",
    "pc.assert_colors_equal('k')\n",
    "\n",
    "# check that a title was included\n",
    "pc.assert_title_exists()\n",
    "\n",
    "# check that the labels are correct\n",
    "pc.assert_textlabels_equal(music_names)\n",
    "pc.assert_textpoints_equal(music_points)\n",
    "\n",
    "print(\"Success!\")"
   ]
  },
  {
   "cell_type": "markdown",
   "metadata": {
    "deletable": false
   },
   "source": [
    "---\n",
    "\n",
    "## Part C (0.5 points)"
   ]
  },
  {
   "cell_type": "markdown",
   "metadata": {
    "deletable": false
   },
   "source": [
    "<div class=\"alert alert-success\">By looking at the graph from Part B, can you identify any **pairs** of points that have similar distances on the 2D plane, but which have different relationships conceptually?</div>"
   ]
  },
  {
   "cell_type": "markdown",
   "metadata": {
    "deletable": false,
    "nbgrader": {
     "checksum": "3e57608a002c9ba49ba29da15596a239",
     "grade": true,
     "grade_id": "part_c",
     "locked": false,
     "points": 0.5,
     "schema_version": 1,
     "solution": true
    }
   },
   "source": [
    "YOUR ANSWER HERE"
   ]
  },
  {
   "cell_type": "markdown",
   "metadata": {
    "deletable": false
   },
   "source": [
    "---\n",
    "\n",
    "## Part D (0.5 points)"
   ]
  },
  {
   "cell_type": "markdown",
   "metadata": {
    "deletable": false
   },
   "source": [
    "<div class=\"alert alert-success\">Overall, how well does the spatial representation produced by the MDS algorithm capture your intuitions about the similarities between these musical categories? Justify your answer.</div>"
   ]
  },
  {
   "cell_type": "markdown",
   "metadata": {
    "deletable": false,
    "nbgrader": {
     "checksum": "561bd622b8514f51ab0176f6e1db36b5",
     "grade": true,
     "grade_id": "part_d",
     "locked": false,
     "points": 0.5,
     "schema_version": 1,
     "solution": true
    }
   },
   "source": [
    "YOUR ANSWER HERE"
   ]
  },
  {
   "cell_type": "markdown",
   "metadata": {
    "deletable": false
   },
   "source": [
    "---\n",
    "\n",
    "## Part E (1 point)"
   ]
  },
  {
   "cell_type": "markdown",
   "metadata": {
    "deletable": false
   },
   "source": [
    "Being a polymath with a wide range of interests, and being especially interested in ways of visualizing psychological similarity data, Alyssa obtained similarity judgments about kinship relations, for example: how similar is an aunt to a nephew? and how similar is a daughter to a grandmother? her similarity data, and the list of kinship category names she used in her new experiment are conveniently stored in an npz file (which are loaded below).\n",
    "\n",
    "She decides to try a different way of representing her kinship data (a different representation than the one she used for musical categories). She has heard of a special type of plot called a \"dendrogram\", which will create a hierarchical clustering based on the similarities (e.g., as opposed to a spatial layout).\n",
    "\n",
    "We have provided for you a `plot_dendrogram` function that will perform hierarchical clustering and then create a dendrogram plot for you:"
   ]
  },
  {
   "cell_type": "code",
   "execution_count": null,
   "metadata": {
    "deletable": false
   },
   "outputs": [],
   "source": [
    "# The kinship similarity data\n",
    "kinship_data = np.load(\"data/kinship.npz\")\n",
    "\n",
    "# the list of names\n",
    "kinship_names = list(kinship_data['names'])\n",
    "print(kinship_names)\n",
    "\n",
    "# The similarity matrix\n",
    "kinship_similarities = kinship_data['similarities']"
   ]
  },
  {
   "cell_type": "code",
   "execution_count": null,
   "metadata": {
    "deletable": false
   },
   "outputs": [],
   "source": [
    "plot_dendrogram??"
   ]
  },
  {
   "cell_type": "markdown",
   "metadata": {
    "deletable": false
   },
   "source": [
    "<div class=\"alert alert-success\">From the documetation, figure out how to call the `plot_dendrogram` function with the music data, and then call the function in the following cell. Save the output of `plot_dendrogram` into a variable called `music_dissimilarities`. Make sure you add a title to your plot as well. Your solution can be done in 2 lines of code.</div>"
   ]
  },
  {
   "cell_type": "code",
   "execution_count": null,
   "metadata": {
    "deletable": false,
    "nbgrader": {
     "checksum": "35087ab29a93cf5f2199bd0c92fd3dc2",
     "grade": false,
     "grade_id": "dendrogram_plot",
     "locked": false,
     "schema_version": 1,
     "solution": true
    }
   },
   "outputs": [],
   "source": [
    "# load the kinship data\n",
    "kinship_data = np.load(\"data/kinship.npz\")\n",
    "kinship_names = list(kinship_data['names'])\n",
    "kinship_similarities = kinship_data['similarities']\n",
    "\n",
    "# create the figure\n",
    "fig, axis = plt.subplots()\n",
    "\n",
    "# YOUR CODE HERE\n",
    "raise NotImplementedError()"
   ]
  },
  {
   "cell_type": "code",
   "execution_count": null,
   "metadata": {
    "deletable": false,
    "nbgrader": {
     "checksum": "6722e7d4d9d09261df10df3dd36c169b",
     "grade": true,
     "grade_id": "check_dendrogram_plot",
     "locked": false,
     "points": 0.25,
     "schema_version": 1,
     "solution": false
    }
   },
   "outputs": [],
   "source": [
    "\"\"\"Check that the dendrogram function was correctly used for the kinship data.\"\"\"\n",
    "from numpy.testing import assert_array_equal\n",
    "from nose.tools import assert_equal, assert_not_equal\n",
    "from plotchecker import PlotChecker\n",
    "\n",
    "# check that the kinship data hasn't changed\n",
    "kd = np.load(\"data/kinship.npz\")\n",
    "assert_equal(kinship_names, list(kd['names']), \"kinship_names array has changed\")\n",
    "assert_array_equal(kinship_similarities, kd['similarities'], \"kinship_similarities array has changed\")\n",
    "\n",
    "# check that a title was included\n",
    "pc = PlotChecker(axis)\n",
    "pc.assert_title_exists()\n",
    "\n",
    "# check that the labels are correct\n",
    "labels = [\"aunt\", \"uncle\", \"nephew\", \"niece\", \"father\", \"mother\", \"daughter\", \n",
    "          \"son\", \"grandfather\", \"grandmother\", \"granddaughter\", \"grandson\"]\n",
    "pc.assert_xticklabels_equal(labels)\n",
    "\n",
    "# check that the dissimilarities are correct\n",
    "assert_array_equal(kinship_dissimilarities, 1 - kinship_similarities, \"kinship dissimilarities are incorrect\")\n",
    "\n",
    "print(\"Success!\")"
   ]
  },
  {
   "cell_type": "markdown",
   "metadata": {
    "deletable": false
   },
   "source": [
    "<div class=\"alert alert-success\">How well do the results of the hierarchical clustering capture your intuitions about the similarity of the kinship terms? Justify your answer.</div>"
   ]
  },
  {
   "cell_type": "markdown",
   "metadata": {
    "deletable": false,
    "nbgrader": {
     "checksum": "7a3dcbd765718cbd484500fe3b97ab84",
     "grade": true,
     "grade_id": "part_e",
     "locked": false,
     "points": 0.75,
     "schema_version": 1,
     "solution": true
    }
   },
   "source": [
    "YOUR ANSWER HERE"
   ]
  },
  {
   "cell_type": "markdown",
   "metadata": {
    "deletable": false,
    "nbgrader": {}
   },
   "source": [
    "---"
   ]
  },
  {
   "cell_type": "markdown",
   "metadata": {
    "deletable": false,
    "nbgrader": {}
   },
   "source": [
    "Before turning this problem in remember to do the following steps:\n",
    "\n",
    "1. **Restart the kernel** (Kernel$\\rightarrow$Restart)\n",
    "2. **Run all cells** (Cell$\\rightarrow$Run All)\n",
    "3. **Save** (File$\\rightarrow$Save and Checkpoint)"
   ]
  },
  {
   "cell_type": "markdown",
   "metadata": {
    "deletable": false,
    "nbgrader": {
     "cell_type": "release"
    }
   },
   "source": [
    "<div class=\"alert alert-danger\">After you have completed these three steps, ensure that the following cell has printed \"No errors\". If it has <b>not</b> printed \"No errors\", then your code has a bug in it and has thrown an error! Make sure you fix this error before turning in your problem set.</div>"
   ]
  },
  {
   "cell_type": "code",
   "execution_count": null,
   "metadata": {
    "deletable": false,
    "nbgrader": {}
   },
   "outputs": [],
   "source": [
    "print(\"No errors!\")"
   ]
  }
 ],
 "metadata": {
  "kernelspec": {
   "display_name": "Python 3",
   "language": "python",
   "name": "python3"
  },
  "language_info": {
   "codemirror_mode": {
    "name": "ipython",
    "version": 3
   },
   "file_extension": ".py",
   "mimetype": "text/x-python",
   "name": "python",
   "nbconvert_exporter": "python",
   "pygments_lexer": "ipython3",
   "version": "3.4.3"
  }
 },
 "nbformat": 4,
 "nbformat_minor": 1
}
