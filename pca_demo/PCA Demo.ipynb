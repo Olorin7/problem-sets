{
 "cells": [
  {
   "cell_type": "markdown",
   "metadata": {},
   "source": [
    "# PCA Demo: \"Eigenfaces\""
   ]
  },
  {
   "cell_type": "code",
   "execution_count": null,
   "metadata": {},
   "outputs": [],
   "source": [
    "%matplotlib inline\n",
    "import numpy as np\n",
    "import matplotlib.pyplot as plt\n",
    "from sklearn.decomposition import PCA\n",
    "# from IPython.html.widgets import interact\n",
    "from ipywidgets import interact"
   ]
  },
  {
   "cell_type": "code",
   "execution_count": null,
   "metadata": {},
   "outputs": [],
   "source": [
    "def plot_face(axis, face):\n",
    "    axis.matshow(face.reshape((19, 19)), cmap='gray')\n",
    "    axis.set_xticks([])\n",
    "    axis.set_yticks([])"
   ]
  },
  {
   "cell_type": "code",
   "execution_count": null,
   "metadata": {},
   "outputs": [],
   "source": [
    "def reconstruct(face, components, num_components):\n",
    "    reshaped=face.reshape(1,361)\n",
    "    projected = np.concatenate([[1], pca.transform(reshaped).ravel()])\n",
    "    reconstructed = np.dot(projected[:num_components], components[:num_components])\n",
    "    return reconstructed"
   ]
  },
  {
   "cell_type": "markdown",
   "metadata": {},
   "source": [
    "## Exploring the face data"
   ]
  },
  {
   "cell_type": "code",
   "execution_count": null,
   "metadata": {},
   "outputs": [],
   "source": [
    "# Load in the face data and plot some random faces\n",
    "faces = np.load(\"faces.npy\")\n",
    "\n",
    "fig, axes = plt.subplots(5, 5)\n",
    "ix = np.random.randint(0, faces.shape[0], 25)\n",
    "for i in range(25):\n",
    "    plot_face(axes.flat[i], faces[ix[i]])"
   ]
  },
  {
   "cell_type": "markdown",
   "metadata": {},
   "source": [
    "## Running PCA"
   ]
  },
  {
   "cell_type": "code",
   "execution_count": null,
   "metadata": {},
   "outputs": [],
   "source": [
    "# Run PCA on the face data\n",
    "pca = PCA(n_components=361)\n",
    "pca.fit(faces)\n",
    "v = np.concatenate([pca.mean_[None], pca.components_])"
   ]
  },
  {
   "cell_type": "code",
   "execution_count": null,
   "metadata": {},
   "outputs": [],
   "source": [
    "# The best components\n",
    "fig, axes = plt.subplots(5, 5)\n",
    "for i in range(25):\n",
    "    plot_face(axes.flat[i], v[i])"
   ]
  },
  {
   "cell_type": "code",
   "execution_count": null,
   "metadata": {},
   "outputs": [],
   "source": [
    "# The worst components\n",
    "fig, axes = plt.subplots(5, 5)\n",
    "for i in range(25):\n",
    "    plot_face(axes.flat[i], v[-(25-i+1)])"
   ]
  },
  {
   "cell_type": "code",
   "execution_count": null,
   "metadata": {},
   "outputs": [],
   "source": [
    "# Interactive visualization of all the different components\n",
    "\n",
    "@interact\n",
    "def show_component(component=(0, 361)):\n",
    "    plt.close('all')\n",
    "    fig, ax = plt.subplots()\n",
    "    plot_face(ax, v[component])\n",
    "    fig.set_figwidth(2)\n",
    "    fig.set_figheight(2)"
   ]
  },
  {
   "cell_type": "markdown",
   "metadata": {},
   "source": [
    "## Reconstructing the faces"
   ]
  },
  {
   "cell_type": "code",
   "execution_count": null,
   "metadata": {},
   "outputs": [],
   "source": [
    "# Plot reconstructions of some random faces\n",
    "\n",
    "fix = np.random.randint(0, faces.shape[0], 5)\n",
    "vix = np.array([1, 2, 3, 4, 5, 10, 20, 50, 75, 100, 150, 200, 361])\n",
    "\n",
    "fig, axes = plt.subplots(fix.size, vix.size)\n",
    "for i in range(fix.size):\n",
    "    for j in range(vix.size):\n",
    "        plot_face(axes[i, j], reconstruct(faces[fix[i]], v, vix[j]))\n",
    "        #plot_face(axes[i, j], reconstruct(faces, v, vix[j]))\n",
    "        \n",
    "fig.set_figwidth(12)\n",
    "fig.set_figheight(5)"
   ]
  },
  {
   "cell_type": "code",
   "execution_count": null,
   "metadata": {},
   "outputs": [],
   "source": [
    "# Interactive visualization of a reconstruction of a face\n",
    "\n",
    "@interact\n",
    "def plot_reconstruction(face_index=(0, faces.shape[0]), components=(1, 200)):\n",
    "    plt.close('all')\n",
    "    fig, (ax1, ax2, ax3) = plt.subplots(1, 3)\n",
    "\n",
    "    plot_face(ax1, pca.mean_)\n",
    "    plot_face(ax2, reconstruct(faces[face_index], v, components))\n",
    "    plot_face(ax3, faces[face_index])\n",
    "    \n",
    "    plt.draw()\n",
    "    fig.set_figwidth(6)\n",
    "    fig.set_figheight(2)"
   ]
  },
  {
   "cell_type": "code",
   "execution_count": null,
   "metadata": {},
   "outputs": [],
   "source": []
  }
 ],
 "metadata": {
  "kernelspec": {
   "display_name": "Python 2",
   "language": "python",
   "name": "python2"
  },
  "language_info": {
   "codemirror_mode": {
    "name": "ipython",
    "version": 2
   },
   "file_extension": ".py",
   "mimetype": "text/x-python",
   "name": "python",
   "nbconvert_exporter": "python",
   "pygments_lexer": "ipython2",
   "version": "2.7.6"
  }
 },
 "nbformat": 4,
 "nbformat_minor": 1
}
