{
 "cells": [
  {
   "cell_type": "markdown",
   "metadata": {
    "deletable": false,
    "nbgrader": {
     "cell_type": "release"
    }
   },
   "source": [
    "Make sure you fill in any place that says `YOUR CODE HERE` or \"YOUR ANSWER HERE\", as well as your collaborators below:"
   ]
  },
  {
   "cell_type": "code",
   "execution_count": null,
   "metadata": {
    "deletable": false,
    "nbgrader": {
     "cell_type": "release"
    }
   },
   "outputs": [],
   "source": [
    "COLLABORATORS = \"\""
   ]
  },
  {
   "cell_type": "markdown",
   "metadata": {
    "deletable": false,
    "nbgrader": {}
   },
   "source": [
    "---"
   ]
  },
  {
   "cell_type": "code",
   "execution_count": null,
   "metadata": {
    "deletable": false,
    "nbgrader": {}
   },
   "outputs": [],
   "source": [
    "%matplotlib inline\n",
    "import numpy as np\n",
    "import matplotlib.pyplot as plt\n",
    "\n",
    "# special imports for running k-means \n",
    "from k_means_clustering import init_centers, k_means, plot_final"
   ]
  },
  {
   "cell_type": "markdown",
   "metadata": {
    "deletable": false
   },
   "source": [
    "<div class='alert alert-success'>In this problem, we will use $k$-means clustering on a dataset consisting of observations of dogs, cats, and mops. You can consult AIMA3, pages 816-824, or AIMA2, pages 724-733 for help.</div>"
   ]
  },
  {
   "cell_type": "markdown",
   "metadata": {
    "deletable": false,
    "nbgrader": {}
   },
   "source": [
    "An example observation from the categories cat, dog, and mop are presented below:\n",
    "![](images/test.png)\n",
    "We assume each observation can be represented as a pair of ($x,y$) coordinates, i.e., each object is represented in two-dimensional space. Suppose we have observed some obserations from each type of object, but have lost the information as to which instance belongs to which type!\n",
    "\n",
    "To try and recover this information we will use an unsupervised learning algorithm called _k-means clustering_. As you may recall from lecture, the $k$ here refers to how many types of clusters we think exist in the data, and the goal of the algorithm is to assign labels to the data points using their distance to the centers (or means) of the clusters. For this particular problem, we assume $k=3$. After randomly initializing cluster centers,\n",
    "the algorithm can be broken down into two alternating steps: \n",
    "\n",
    "1. Update the label assignments of the data points based on the nearest cluster centers\n",
    "2. Update the positions of the cluster centers to reflect the updated assignments of data points.\n",
    "\n",
    "Before you begin, load the data we will be using. For answering the questions in this problem set, use the `centers` loaded from the `X.npz`  file below (i.e., do NOT randomly initialize the values yourself - the autograder for this problem relies on a \"stock\" initialization)."
   ]
  },
  {
   "cell_type": "markdown",
   "metadata": {
    "deletable": false
   },
   "source": [
    "<div class=\"alert alert-warning\">\n",
    "**N.B.** we use non-random initializations for the cluster centers to make autograding feasible; normally cluster centers would be randomly initialized. \n",
    "</div>"
   ]
  },
  {
   "cell_type": "code",
   "execution_count": null,
   "metadata": {
    "deletable": false,
    "nbgrader": {
     "checksum": "f5304894e0100fb6f675a9d626548948",
     "grade": false,
     "grade_id": "load_data",
     "locked": true,
     "solution": false
    }
   },
   "outputs": [],
   "source": [
    "data = np.load('data/X.npz')\n",
    "X = data['X']\n",
    "centers = data['centers'] \n",
    "\n",
    "print ('X: \\n' + str(X))\n",
    "print ('\\ncenters: \\n' + str(centers))"
   ]
  },
  {
   "cell_type": "markdown",
   "metadata": {
    "deletable": false,
    "nbgrader": {}
   },
   "source": [
    "Also, take a look at the imported functions `k_means`:"
   ]
  },
  {
   "cell_type": "code",
   "execution_count": null,
   "metadata": {
    "deletable": false,
    "nbgrader": {}
   },
   "outputs": [],
   "source": [
    "k_means??"
   ]
  },
  {
   "cell_type": "markdown",
   "metadata": {
    "deletable": false,
    "nbgrader": {}
   },
   "source": [
    "This is the function you will run in Part C once you have completed the helper functions in parts A and B. "
   ]
  },
  {
   "cell_type": "markdown",
   "metadata": {
    "deletable": false,
    "nbgrader": {}
   },
   "source": [
    "---\n",
    "\n",
    "## Part A (2 points)"
   ]
  },
  {
   "cell_type": "markdown",
   "metadata": {
    "deletable": false,
    "nbgrader": {}
   },
   "source": [
    "First, we will need a function that gives us the distance between two points. We can use _Euclidean distance_ to compute the distance between two points ($x_1,y_1$) and ($x_2,y_2$). Recall that Euclidean distance in $\\mathbb{R}^2$ is calculated as:\n",
    "\n",
    "$$\n",
    "distance((x_1,y_1),(x_2,y_2)) = \\sqrt{(x_1 - x_2)^{2} + (y_1 - y_2)^{2}}\n",
    "$$"
   ]
  },
  {
   "cell_type": "markdown",
   "metadata": {
    "deletable": false,
    "nbgrader": {}
   },
   "source": [
    "<div class=\"alert alert-success\">\n",
    "Complete the `distance` function below to calculate the euclidean distance between two points in $\\mathbb{R}^2$.\n",
    "</div>"
   ]
  },
  {
   "cell_type": "code",
   "execution_count": null,
   "metadata": {
    "deletable": false,
    "nbgrader": {
     "checksum": "d950e72f2aad25d2a2eabcf91ea7aac4",
     "grade_id": "distance",
     "solution": true
    }
   },
   "outputs": [],
   "source": [
    "def distance(a, b):\n",
    "    \"\"\"\n",
    "    Returns the Euclidean distance between two points, \n",
    "    a and b, in R^2.\n",
    "    \n",
    "    Parameters\n",
    "    ----------\n",
    "    a, b : numpy arrays of shape (2,)\n",
    "        The (x,y) coordinates for two points, a and b, \n",
    "        in R^2. E.g., a[0] is the x coordinate, \n",
    "        and a[1] is the y coordinate.\n",
    "            \n",
    "    Returns\n",
    "    -------\n",
    "    distance : float\n",
    "        The Euclidean distance between a and b\n",
    "    \"\"\"\n",
    "    # YOUR CODE HERE\n",
    "    raise NotImplementedError()"
   ]
  },
  {
   "cell_type": "code",
   "execution_count": null,
   "metadata": {
    "deletable": false,
    "nbgrader": {}
   },
   "outputs": [],
   "source": [
    "# add your own test cases here!\n"
   ]
  },
  {
   "cell_type": "code",
   "execution_count": null,
   "metadata": {
    "deletable": false,
    "nbgrader": {
     "checksum": "121d66ce01b34238286eb60702a438f3",
     "grade": true,
     "grade_id": "test_distance",
     "points": 0.5
    }
   },
   "outputs": [],
   "source": [
    "\"\"\"Check distances computes the correct values\"\"\"\n",
    "from numpy.testing import assert_allclose\n",
    "\n",
    "assert_allclose(distance(np.array([0.0, 0.0]), np.array([0.0, 1.0])), 1.0)\n",
    "assert_allclose(distance(np.array([3.0, 3.0]), np.array([4.3, 5.0])), 2.3853720883753127)\n",
    "assert_allclose(distance(np.array([130.0, -25.0]), np.array([0.4, 15.0])), 135.63244449614552)\n",
    "\n",
    "print(\"Success!\")"
   ]
  },
  {
   "cell_type": "markdown",
   "metadata": {
    "deletable": false,
    "nbgrader": {}
   },
   "source": [
    "<div class=\"alert alert-success\">Now, we will write a function to update the cluster that each point is assigned to by computing the distance to the center of each cluster. Complete the `update_assignments` function to do this using your `distances` function.</div>"
   ]
  },
  {
   "cell_type": "code",
   "execution_count": null,
   "metadata": {
    "deletable": false,
    "nbgrader": {
     "checksum": "4ef03876612c7b07011eb7dc78684dff",
     "grade_id": "update_assignments",
     "solution": true
    }
   },
   "outputs": [],
   "source": [
    "def update_assignments(num_clusters, X, centers):\n",
    "    \"\"\"\n",
    "    Returns the cluster assignment (number) for each data point \n",
    "    in X, computed as the closest cluster center.\n",
    "    \n",
    "    Parameters\n",
    "    ----------\n",
    "    num_clusters : int\n",
    "        The number of disjoint clusters (i.e., k) in \n",
    "        the X\n",
    "    \n",
    "    X : numpy array of shape (m, 2)\n",
    "        An array of m data points in R^2.\n",
    "    \n",
    "    centers : numpy array of shape (num_clusters, 2)\n",
    "        The coordinates for the centers of each cluster\n",
    "        \n",
    "    Returns\n",
    "    -------\n",
    "    cluster_assignments : numpy array of shape (m,)\n",
    "        An array containing the cluster label assignments \n",
    "        for each data point in X. Each cluster label is an integer\n",
    "        between 0 and (num_clusters - 1). \n",
    "    \"\"\"\n",
    "    # YOUR CODE HERE\n",
    "    raise NotImplementedError()"
   ]
  },
  {
   "cell_type": "code",
   "execution_count": null,
   "metadata": {
    "deletable": false,
    "nbgrader": {}
   },
   "outputs": [],
   "source": [
    "# add your own test cases here!\n"
   ]
  },
  {
   "cell_type": "code",
   "execution_count": null,
   "metadata": {
    "deletable": false,
    "nbgrader": {
     "checksum": "c8b9f807f1ca9aefcbe7f5a1b537125d",
     "grade": true,
     "grade_id": "test_update_assignments",
     "points": 1.5
    }
   },
   "outputs": [],
   "source": [
    "\"\"\"Check update_assignments computes the correct values\"\"\"\n",
    "from nose.tools import assert_equal\n",
    "from numpy.testing import assert_array_equal\n",
    "\n",
    "# load the data\n",
    "data = np.load('data/X.npz')\n",
    "X = data['X']\n",
    "\n",
    "# validate update_assignments using different values\n",
    "actual = update_assignments(2, X, np.array([[3, 2], [1, 4]]))\n",
    "expected = np.array([\n",
    "    0, 0, 0, 0, 0, 0, 0, 0, 0, 0, 0, 0, 0, \n",
    "    0, 0, 0, 0, 0, 0, 0, 0, 1, 1, 1, 1, 0, 0, 1, 0, 0])\n",
    "\n",
    "# is the output of the correct shape?\n",
    "assert_equal(actual.shape[0], X.shape[0])\n",
    "\n",
    "# are the cluster labels correct?\n",
    "assert_array_equal(expected, actual)\n",
    "\n",
    "# validate update_assignments using different values\n",
    "actual = update_assignments(3, X[:int(X.shape[0]/2)], np.array([X[0], X[1], X[2]]))\n",
    "expected = np.array([0, 1, 2, 2, 0, 2, 1, 2, 2, 2, 0, 0, 0, 0, 0])\n",
    "\n",
    "# is the output of the correct shape?\n",
    "assert_equal(actual.shape[0], X.shape[0] / 2)\n",
    "\n",
    "# are the cluster labels correct?\n",
    "assert_array_equal(expected, actual)\n",
    "\n",
    "# check that it uses distance\n",
    "old_distance = distance\n",
    "del distance\n",
    "try:\n",
    "    update_assignments(2, X, np.array([[3, 2], [1, 4]]))\n",
    "except NameError:\n",
    "    pass\n",
    "else:\n",
    "    raise AssertionError(\"update_assignments does not call distance\")\n",
    "finally:\n",
    "    distance = old_distance\n",
    "    del old_distance\n",
    "\n",
    "print(\"Success!\")"
   ]
  },
  {
   "cell_type": "markdown",
   "metadata": {
    "deletable": false,
    "nbgrader": {}
   },
   "source": [
    "---\n",
    "## Part B (1.5 points)"
   ]
  },
  {
   "cell_type": "markdown",
   "metadata": {
    "deletable": false,
    "nbgrader": {}
   },
   "source": [
    "<div class=\"alert alert-success\">Now, we need to do the next step of the clustering algorithm: recompute the cluster centers based on which points are assigned to that cluster. Recall that the new centers are simply the two-dimensional means of each group of data points. A two-dimensional mean is calculated by simply finding the mean of the x coordinates and the mean of the y coordinates. Complete the `update_parameters` function to do this.</div>"
   ]
  },
  {
   "cell_type": "code",
   "execution_count": null,
   "metadata": {
    "deletable": false,
    "nbgrader": {
     "checksum": "cb7998998e60494312a09789f30fd334",
     "grade_id": "update_parameters",
     "solution": true
    }
   },
   "outputs": [],
   "source": [
    "def update_parameters(num_clusters, X, cluster_assignment):\n",
    "    \"\"\"\n",
    "    Recalculates cluster centers running update_assignments.\n",
    "    \n",
    "    Parameters\n",
    "    ----------\n",
    "    num_clusters : int\n",
    "        The number of disjoint clusters (i.e., k) in \n",
    "        the X\n",
    "    \n",
    "    X : numpy array of shape (m, 2)\n",
    "        An array of m data points in R^2\n",
    "    \n",
    "    cluster_assignment : numpy array of shape (m,)\n",
    "        The array of cluster labels assigned to each data \n",
    "        point as returned from update_assignments\n",
    "    \n",
    "    Returns\n",
    "    -------\n",
    "    updated_centers : numpy array of shape (num_clusters, 2)\n",
    "        An array containing the new positions for each of \n",
    "        the cluster centers\n",
    "    \"\"\"\n",
    "    # YOUR CODE HERE\n",
    "    raise NotImplementedError()"
   ]
  },
  {
   "cell_type": "code",
   "execution_count": null,
   "metadata": {
    "deletable": false,
    "nbgrader": {}
   },
   "outputs": [],
   "source": [
    "# add your own test cases here!\n"
   ]
  },
  {
   "cell_type": "code",
   "execution_count": null,
   "metadata": {
    "deletable": false,
    "nbgrader": {
     "checksum": "5da64ff09c5c2e59b666d7b5cedc6295",
     "grade": true,
     "grade_id": "test_update_parameters",
     "points": 1.5
    }
   },
   "outputs": [],
   "source": [
    "\"\"\"Check update_parameters computes the correct values\"\"\"\n",
    "from nose.tools import assert_equal\n",
    "from numpy.testing import assert_allclose\n",
    "\n",
    "# load the data\n",
    "data = np.load('data/X.npz')\n",
    "X = data['X']\n",
    "\n",
    "# validate update_assignments using different values\n",
    "cluster_assignment1 = np.array([\n",
    "    0, 0, 0, 0, 0, 0, 0, 0, 0, 0, 0, 0, 0, \n",
    "    0, 0, 0, 0, 0, 0, 0, 0, 1, 1, 1, 1, 0, 0, 1, 0, 0])\n",
    "actual = update_parameters(2, X, cluster_assignment1)\n",
    "expected = np.array([[ 3.24286584,  2.71362623], [ 2.80577245,  4.07633606]])\n",
    "assert_allclose(expected, actual)\n",
    "\n",
    "cluster_assignment2 = np.array([0, 1, 2, 2, 0, 2, 1, 2, 2, 2, 0, 0, 0, 0, 0])\n",
    "actual = update_parameters(3, X[:int(X.shape[0]/2)], cluster_assignment2)\n",
    "expected = np.array([[ 3.4914304 ,  2.79181724], [ 3.03095255,  2.02958778], [ 2.86686881,  1.76070598]])\n",
    "assert_allclose(expected, actual, rtol=1e-6)\n",
    "    \n",
    "print(\"Success!\")"
   ]
  },
  {
   "cell_type": "markdown",
   "metadata": {
    "deletable": false,
    "nbgrader": {}
   },
   "source": [
    "---\n",
    "\n",
    "## Part C"
   ]
  },
  {
   "cell_type": "markdown",
   "metadata": {
    "deletable": false,
    "nbgrader": {}
   },
   "source": [
    "At this stage you are ready to run the $k$-means clustering algorithm! The `k_means` function below will call your functions from Part A and B to run the k-means algorithm on the data points in `X`. Note that for this problem we assume that $k = 3$.\n",
    "\n",
    "Call the function as so: "
   ]
  },
  {
   "cell_type": "code",
   "execution_count": null,
   "metadata": {
    "deletable": false,
    "nbgrader": {
     "checksum": "8320b1ac6dd195a348037a2a1f5bbc8d",
     "grade": false,
     "grade_id": "run_k_means",
     "locked": true,
     "solution": false
    }
   },
   "outputs": [],
   "source": [
    "# load the data\n",
    "data = np.load('data/X.npz')\n",
    "X = data['X']\n",
    "centers = data['centers'] \n",
    "\n",
    "# run k-means\n",
    "cluster_assignments, updated_centers = k_means(3, X, centers, update_assignments, update_parameters, n_iter=4)"
   ]
  },
  {
   "cell_type": "markdown",
   "metadata": {
    "deletable": false,
    "nbgrader": {}
   },
   "source": [
    "If the functions you completed above are working properly, you should see a figure containing a subplot of the output from steps (1) and (2) for four iterations of the algorithm. This plot should give you a sense of how the algorithm progresses over time. The data points are each assigned to one of three colors corresponding to their current cluster label. The cluster centers are plotted as stars."
   ]
  },
  {
   "cell_type": "markdown",
   "metadata": {
    "deletable": false,
    "nbgrader": {}
   },
   "source": [
    "---\n",
    "\n",
    "## Part D (1 point)\n",
    "\n",
    "Now that we have assigned cluster labels to each datapoint, let's investigate how we should classify a _new_ object (which we can see is a Shih-Tzu):\n",
    "\n",
    "![](images/maddie.png)"
   ]
  },
  {
   "cell_type": "markdown",
   "metadata": {
    "deletable": false,
    "nbgrader": {}
   },
   "source": [
    "<div class=\"alert alert-success\">Complete the function template in `assign_new_object` to determine the appropriate cluster label for this new object.</div>"
   ]
  },
  {
   "cell_type": "markdown",
   "metadata": {
    "deletable": false,
    "nbgrader": {}
   },
   "source": [
    "<div class=\"alert alert-warning\">**N.B.** To complete the function, you will need to compute the distance between each cluster center and the new observation. Use the `distance` function from Part A.</div>"
   ]
  },
  {
   "cell_type": "code",
   "execution_count": null,
   "metadata": {
    "deletable": false,
    "nbgrader": {
     "checksum": "815f75ed0479de932746abc912b262d7",
     "grade": false,
     "grade_id": "assign_new_object",
     "solution": true
    }
   },
   "outputs": [],
   "source": [
    "def assign_new_object(new_object, updated_centers):\n",
    "    \"\"\"\n",
    "    Returns the cluster label (number) for new_object using k-means \n",
    "    clustering.\n",
    "    \n",
    "    Parameters\n",
    "    ----------\n",
    "    new_object : numpy array of shape (2,)\n",
    "        The (x,y) coordinates of a new object to be classified\n",
    "        \n",
    "    updated_centers : numpy array of shape (num_clusters,2)\n",
    "        An array containing the updated (x,y) coordinates for \n",
    "        each cluster center\n",
    "        \n",
    "    Returns\n",
    "    -------\n",
    "    label : int\n",
    "       The cluster label assignment for new_object. This is a\n",
    "       number between 0 and and (num_clusters - 1).\n",
    "    \"\"\"\n",
    "    # YOUR CODE HERE\n",
    "    raise NotImplementedError()"
   ]
  },
  {
   "cell_type": "code",
   "execution_count": null,
   "metadata": {
    "deletable": false,
    "nbgrader": {}
   },
   "outputs": [],
   "source": [
    "# add your own test cases here!\n"
   ]
  },
  {
   "cell_type": "code",
   "execution_count": null,
   "metadata": {
    "deletable": false,
    "nbgrader": {
     "checksum": "9229cbca2da4ed5ecf4b3b7e1690b33d",
     "grade": true,
     "grade_id": "test_assign_new_object",
     "points": 1
    }
   },
   "outputs": [],
   "source": [
    "\"\"\"Check assign_new_object computes the correct values\"\"\"\n",
    "from nose.tools import assert_equal\n",
    "\n",
    "# validate update_assignments using different values\n",
    "centers1 = np.array([[ 3.17014624,  2.42738134], [ 2.90932354,  4.26426491]])\n",
    "assert_equal(assign_new_object(np.array([0, 1]), centers1), 0)\n",
    "assert_equal(assign_new_object(np.array([1, 0]), centers1), 0)\n",
    "assert_equal(assign_new_object(np.array([3, 2]), centers1), 0)\n",
    "assert_equal(assign_new_object(np.array([2, 4]), centers1), 1)\n",
    "\n",
    "centers2 = np.array([[ 3.170146,  2.427381], [ 3.109456,  1.902395], [ 2.964183,  1.827484]])\n",
    "assert_equal(assign_new_object(np.array([0, 1]), centers2), 2)\n",
    "assert_equal(assign_new_object(np.array([1, 0]), centers2), 2)\n",
    "assert_equal(assign_new_object(np.array([3, 2]), centers2), 1)\n",
    "assert_equal(assign_new_object(np.array([2, 4]), centers2), 0)\n",
    "\n",
    "# check that it uses distance\n",
    "old_distance = distance\n",
    "del distance\n",
    "try:\n",
    "    update_assignments(2, X, np.array([[3, 2], [1, 4]]))\n",
    "except NameError:\n",
    "    pass\n",
    "else:\n",
    "    raise AssertionError(\"assign_new_object does not call distance\")\n",
    "finally:\n",
    "    distance = old_distance\n",
    "    del old_distance\n",
    "\n",
    "print(\"Success!\")"
   ]
  },
  {
   "cell_type": "markdown",
   "metadata": {
    "deletable": false,
    "nbgrader": {}
   },
   "source": [
    "---\n",
    "\n",
    "## Part E (1.5 points)"
   ]
  },
  {
   "cell_type": "markdown",
   "metadata": {
    "deletable": false,
    "nbgrader": {}
   },
   "source": [
    "Let's go ahead and rerun $k$-means, to make sure we have the correct variables set:"
   ]
  },
  {
   "cell_type": "code",
   "execution_count": null,
   "metadata": {
    "deletable": false,
    "nbgrader": {
     "checksum": "7825d835f2fe51ff4a18990a9e5f3bc8",
     "grade": false,
     "grade_id": "rerun_k_means",
     "locked": true,
     "solution": false
    }
   },
   "outputs": [],
   "source": [
    "# load the edata\n",
    "data = np.load('data/X.npz')\n",
    "X = data['X']\n",
    "centers = data['centers'] \n",
    "\n",
    "# run k-means\n",
    "cluster_assignments, updated_centers = k_means(3, X, centers, update_assignments, update_parameters, n_iter=4)"
   ]
  },
  {
   "cell_type": "markdown",
   "metadata": {
    "deletable": false,
    "nbgrader": {}
   },
   "source": [
    "Once you've implemented `assign_new_object`, give it a spin on the image of the Shih-Tzu:"
   ]
  },
  {
   "cell_type": "code",
   "execution_count": null,
   "metadata": {
    "deletable": false,
    "nbgrader": {
     "checksum": "de03f71a97d39ab5112c6061c1036531",
     "grade": false,
     "grade_id": "assign_specific_object",
     "locked": true,
     "solution": false
    }
   },
   "outputs": [],
   "source": [
    "new_object = np.array([3.3, 3.5]) # image coordinates\n",
    "label = assign_new_object(new_object, updated_centers)\n",
    "print ('The new object was assigned to cluster: '+ str(label))"
   ]
  },
  {
   "cell_type": "markdown",
   "metadata": {
    "deletable": false,
    "nbgrader": {}
   },
   "source": [
    "Finally, we can visualize this result against the true assignments using the helper function `plot_final`:"
   ]
  },
  {
   "cell_type": "code",
   "execution_count": null,
   "metadata": {
    "deletable": false,
    "nbgrader": {
     "checksum": "01fdb98cbebdf6c7c41ebef211bae716",
     "grade": false,
     "grade_id": "plot_final",
     "locked": true,
     "solution": false
    }
   },
   "outputs": [],
   "source": [
    "plot_final(X, cluster_assignments, updated_centers, new_object, assign_new_object)"
   ]
  },
  {
   "cell_type": "markdown",
   "metadata": {
    "deletable": false,
    "nbgrader": {}
   },
   "source": [
    "<div class=\"alert alert-danger\">\n",
    "When interpreting these plots, don't worry if the coloring differs between the two solutions; what matters is whether $k$-means identifies the same cluster boundaries as are shown in the true clusters. This is because k-means can't determine the identity of each cluster label, only the groupings of the clusters themselves.</div> "
   ]
  },
  {
   "cell_type": "markdown",
   "metadata": {
    "deletable": false
   },
   "source": [
    "<div class=\"alert alert-success\">Did the algorithm correctly identify the Shih-Tzu? A single word-response is fine. (**0.25 points**)</div>"
   ]
  },
  {
   "cell_type": "markdown",
   "metadata": {
    "deletable": false,
    "nbgrader": {
     "checksum": "dc76fb43396cc124915b4199f19742c6",
     "grade": true,
     "grade_id": "part_e1",
     "locked": false,
     "points": 0.25,
     "solution": true
    }
   },
   "source": [
    "YOUR ANSWER HERE"
   ]
  },
  {
   "cell_type": "markdown",
   "metadata": {
    "deletable": false,
    "nbgrader": {
     "grade": false,
     "points": 1.5
    }
   },
   "source": [
    "<div class=\"alert alert-success\">Do you notice any differences between the true clusters and those identified via $k$-means? Write a few sentences commenting on any differences you found and why these differences might exist. (**1.25 points**)</div>"
   ]
  },
  {
   "cell_type": "markdown",
   "metadata": {
    "deletable": false,
    "nbgrader": {
     "checksum": "9ecffe3a0498182d4c6ff5d2f59726b3",
     "grade": true,
     "grade_id": "part_e2",
     "points": 1.25,
     "solution": true
    }
   },
   "source": [
    "YOUR ANSWER HERE"
   ]
  },
  {
   "cell_type": "markdown",
   "metadata": {
    "deletable": false,
    "nbgrader": {}
   },
   "source": [
    "---"
   ]
  },
  {
   "cell_type": "markdown",
   "metadata": {
    "deletable": false,
    "nbgrader": {}
   },
   "source": [
    "Before turning this problem in remember to do the following steps:\n",
    "\n",
    "1. **Restart the kernel** (Kernel$\\rightarrow$Restart)\n",
    "2. **Run all cells** (Cell$\\rightarrow$Run All)\n",
    "3. **Save** (File$\\rightarrow$Save and Checkpoint)"
   ]
  },
  {
   "cell_type": "markdown",
   "metadata": {
    "deletable": false,
    "nbgrader": {
     "cell_type": "release"
    }
   },
   "source": [
    "<div class=\"alert alert-danger\">After you have completed these three steps, ensure that the following cell has printed \"No errors\". If it has <b>not</b> printed \"No errors\", then your code has a bug in it and has thrown an error! Make sure you fix this error before turning in your problem set.</div>"
   ]
  },
  {
   "cell_type": "code",
   "execution_count": null,
   "metadata": {
    "deletable": false,
    "nbgrader": {}
   },
   "outputs": [],
   "source": [
    "print(\"No errors!\")"
   ]
  }
 ],
 "metadata": {
  "kernelspec": {
   "display_name": "Python 3",
   "language": "python",
   "name": "python3"
  },
  "language_info": {
   "codemirror_mode": {
    "name": "ipython",
    "version": 3
   },
   "file_extension": ".py",
   "mimetype": "text/x-python",
   "name": "python",
   "nbconvert_exporter": "python",
   "pygments_lexer": "ipython3",
   "version": "3.5.1"
  }
 },
 "nbformat": 4,
 "nbformat_minor": 0
}
