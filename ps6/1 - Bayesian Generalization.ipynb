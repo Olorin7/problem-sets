{
 "cells": [
  {
   "cell_type": "markdown",
   "metadata": {
    "deletable": false,
    "nbgrader": {
     "cell_type": "release"
    }
   },
   "source": [
    "Make sure you fill in any place that says `YOUR CODE HERE` or \"YOUR ANSWER HERE\", as well as your collaborators below:"
   ]
  },
  {
   "cell_type": "code",
   "execution_count": null,
   "metadata": {
    "deletable": false,
    "nbgrader": {
     "cell_type": "release"
    }
   },
   "outputs": [],
   "source": [
    "COLLABORATORS = \"\""
   ]
  },
  {
   "cell_type": "markdown",
   "metadata": {
    "deletable": false,
    "nbgrader": {}
   },
   "source": [
    "---"
   ]
  },
  {
   "cell_type": "code",
   "execution_count": null,
   "metadata": {
    "deletable": false,
    "nbgrader": {}
   },
   "outputs": [],
   "source": [
    "%matplotlib inline\n",
    "import numpy as np\n",
    "import matplotlib.pyplot as plt"
   ]
  },
  {
   "cell_type": "markdown",
   "metadata": {
    "deletable": false
   },
   "source": [
    "<div class=\"alert alert-success\">In this section, we will use Bayesian inference to explain people's generalization behavior. The model you will implement is described in greater detail in Tenenbaum, J.B., & Griffiths, T.L. (2001). Generalization, similarity, and Bayesian inference. _Behavioral and Brain Sciences, 24_, 629-641.\n",
    "</div>"
   ]
  },
  {
   "cell_type": "markdown",
   "metadata": {
    "collapsed": true,
    "deletable": false,
    "nbgrader": {}
   },
   "source": [
    "Provided with an example of an\n",
    "object $X$ possessing a particular property, the model indicates how\n",
    "one should compute the probability that another object $Y$ will also\n",
    "possess that property. The model uses Bayesian inference to compare\n",
    "different hypotheses about the set of objects that possess the\n",
    "property.\n",
    "\n",
    "In this example, the \"objects\" you will be working with are ten\n",
    "animals. We can cluster these animals hirearchically \n",
    "using people's similarity judgments. A dendrogram for these 10 animals is shown here:\n",
    "\n",
    "<img src=\"images/dendro.jpg\" width=\"600px\" />\n",
    "\n",
    "The file `animals.npz` contains a set of hypotheses based on\n",
    "the hierarchical clustering shown above. Each hypothesis corresponds\n",
    "to one of the clusters identified in the hierarchy. Ten of\n",
    "the hypotheses thus include only a single animal (e.g., only horses\n",
    "are in the first hypothesis), five include a pair (e.g., chimps and \n",
    "gorillas are in the 11th hypothesis), and the last hypothesis includes\n",
    "all the animals. In the context of Bayesian generalization, each hypothesis \n",
    "corresponds to a belief about the set of animals that have the property \n",
    "we're interested in. The hypotheses are represented by the matrix `hyps`, \n",
    "in which each row corresponds to a hypothesis and each column corresponds \n",
    "to an animal.  The elements of the matrix take the value $1$ if an animal \n",
    "is a member of the set (cluster) identified by that hypothesis, and \n",
    "$0$ if not.\n",
    "\n",
    "Let's load in the data and examine the hypotheses:"
   ]
  },
  {
   "cell_type": "code",
   "execution_count": null,
   "metadata": {
    "deletable": false,
    "nbgrader": {}
   },
   "outputs": [],
   "source": [
    "data = np.load(\"data/animals.npz\")\n",
    "hyps = data['hyps']\n",
    "hyps"
   ]
  },
  {
   "cell_type": "markdown",
   "metadata": {
    "deletable": false,
    "nbgrader": {}
   },
   "source": [
    "The prior probability for each hypothesis is determined by the height\n",
    "at which that cluster appears — clusters appearing higher in the\n",
    "hierarchy have lower prior probability:"
   ]
  },
  {
   "cell_type": "code",
   "execution_count": null,
   "metadata": {
    "deletable": false,
    "nbgrader": {}
   },
   "outputs": [],
   "source": [
    "prior = data['prior'].flatten()\n",
    "prior"
   ]
  },
  {
   "cell_type": "markdown",
   "metadata": {
    "deletable": false,
    "nbgrader": {}
   },
   "source": [
    "And, finally, here are the animal names in the order that they appear in `hyps`:"
   ]
  },
  {
   "cell_type": "code",
   "execution_count": null,
   "metadata": {
    "deletable": false,
    "nbgrader": {}
   },
   "outputs": [],
   "source": [
    "animal_names = list(data['names'])\n",
    "animal_names"
   ]
  },
  {
   "cell_type": "markdown",
   "metadata": {
    "deletable": false,
    "nbgrader": {}
   },
   "source": [
    "In order to apply Bayes' rule, we also need to know the\n",
    "likelihood. We will assume *strong sampling*. For\n",
    "data $d$ consisting of an animal $X$ being sampled from one of the\n",
    "hypotheses, the likelihood given hypothesis $h$ is thus\n",
    "\n",
    "\\begin{equation}\n",
    "p(d\\ |\\ h) = \\left \\{ \n",
    "\\begin{array}{cl}\n",
    "\\frac{1}{|h|} & \\mbox{if animal $X$ is in hypothesis $h$} \\\\\n",
    "0 & \\mbox{otherwise,}\n",
    "\\end{array} \n",
    "\\right .\n",
    "\\end{equation}\n",
    "\n",
    "where $|h|$ is the number of animals in the set identified by hypothesis\n",
    "$h$."
   ]
  },
  {
   "cell_type": "markdown",
   "metadata": {
    "deletable": false,
    "nbgrader": {}
   },
   "source": [
    "---\n",
    "## Part A (1 point)"
   ]
  },
  {
   "cell_type": "markdown",
   "metadata": {
    "deletable": false,
    "nbgrader": {}
   },
   "source": [
    "<div class=\"alert alert-success\">\n",
    "Suppose you discover that one of the animals has a particular biological property: their blood contains protein K. Complete the function `prob_clusters_have_k` so that it computes a posterior distribution over hypotheses as to which sets of animals have blood containing protein K, using the Bayesian generalization model.\n",
    "</div>"
   ]
  },
  {
   "cell_type": "code",
   "execution_count": null,
   "metadata": {
    "deletable": false,
    "nbgrader": {
     "checksum": "1fc8846d205c5621e3e7aba646aa525a",
     "grade_id": "prob_clusters_have_k",
     "solution": true
    }
   },
   "outputs": [],
   "source": [
    "def prob_clusters_have_k(hyps, prior, animal_idx):\n",
    "    \"\"\"Returns the posterior probabiltiy of each hypothesis given that\n",
    "    the given animal is observed to have protein K.\n",
    "        \n",
    "    Your answer can be done in 5 lines of code, including the\n",
    "    return statement.\n",
    "    \n",
    "    Parameters\n",
    "    ----------\n",
    "    hyps: a Numpy array with 2 dimensions\n",
    "        The hypotheses from the animal data set explored above.\n",
    "    prior: a Numpy array\n",
    "        Prior probabilities for each hypothesis.\n",
    "    animal_idx : integer\n",
    "        The index of the animal observed to have protein K.\n",
    "        \n",
    "    Returns\n",
    "    -------\n",
    "    An array with one entry per hypothesis containing its posterior probability.\n",
    "    \n",
    "    \"\"\"\n",
    "    # YOUR CODE HERE\n",
    "    raise NotImplementedError()"
   ]
  },
  {
   "cell_type": "markdown",
   "metadata": {
    "deletable": false,
    "nbgrader": {}
   },
   "source": [
    "For example, to see the posterior probabilities of each hypothesis given that a chimp is observed to have protein K:"
   ]
  },
  {
   "cell_type": "code",
   "execution_count": null,
   "metadata": {
    "deletable": false,
    "nbgrader": {}
   },
   "outputs": [],
   "source": [
    "# load the data\n",
    "data = np.load(\"data/animals.npz\")\n",
    "hyps = data['hyps']\n",
    "prior = data['prior']\n",
    "animal_names = list(data['names'])\n",
    "\n",
    "prob_clusters_have_k(hyps, prior, animal_names.index('chimp'))"
   ]
  },
  {
   "cell_type": "code",
   "execution_count": null,
   "metadata": {
    "deletable": false,
    "nbgrader": {}
   },
   "outputs": [],
   "source": [
    "# add your own test cases here\n"
   ]
  },
  {
   "cell_type": "code",
   "execution_count": null,
   "metadata": {
    "deletable": false,
    "nbgrader": {
     "checksum": "5e7f059954f92f8b80bce71602b0f8c1",
     "grade": true,
     "grade_id": "test_prob_clusters_have_k",
     "points": 1
    }
   },
   "outputs": [],
   "source": [
    "\"\"\"Check update_assignments computes the correct values\"\"\"\n",
    "from nose.tools import assert_almost_equal\n",
    "\n",
    "data = np.load(\"data/animals.npz\")\n",
    "hyps = data['hyps']\n",
    "prior = data['prior']\n",
    "\n",
    "# Check that all values are valid probabilities\n",
    "for i in range(hyps.shape[1]):\n",
    "    posterior = prob_clusters_have_k(hyps, prior, i)\n",
    "    assert(all(posterior >= 0))\n",
    "    assert(all(posterior <= 1))\n",
    "\n",
    "# Check the first animal by hand\n",
    "posterior = prob_clusters_have_k(hyps, prior, 0)\n",
    "first_row = np.array([ 0.41547862, 0, 0, 0, 0, 0, 0, 0, 0, 0, \n",
    "                      0, 0, 0.28105906, 0, 0, 0.15274949, 0.07739308, \n",
    "                      0.04887984, 0.02443992])\n",
    "for i in range(len(first_row)):\n",
    "    assert_almost_equal(posterior[i], first_row[i], places=5)\n",
    "\n",
    "print(\"Success!\")"
   ]
  },
  {
   "cell_type": "markdown",
   "metadata": {
    "deletable": false,
    "nbgrader": {}
   },
   "source": [
    "---\n",
    "## Part B (0.5 points)"
   ]
  },
  {
   "cell_type": "markdown",
   "metadata": {
    "deletable": false,
    "nbgrader": {}
   },
   "source": [
    "<div class=\"alert alert-success\">\n",
    "Now let's create a plot to visualize these probabilities. Create a bar plot (using `axis.bar`) of the posterior distribution for the kind of animal having protein K, showing the probability of the different hypotheses.\n",
    "</div>"
   ]
  },
  {
   "cell_type": "code",
   "execution_count": null,
   "metadata": {
    "deletable": false,
    "nbgrader": {
     "checksum": "4f650247f1e230f24b9d8e43eaa706b1",
     "grade_id": "plot_prob_clusters_have_k",
     "solution": true
    }
   },
   "outputs": [],
   "source": [
    "def plot_prob_clusters_have_k(axis, hyps, prior, name, animal_names):\n",
    "    \"\"\"Plots the posterior probabiltiy of each hypothesis given that\n",
    "    the given animal is observed to have protein K.\n",
    "        \n",
    "    * Your function should call prob_clusters_have_k.\n",
    "    * You should give your plot an informative title that includes the\n",
    "      name of the observed animal.\n",
    "    * Be sure to include proper axis labels.\n",
    "    * The x-values of your bars should be the hypothesis number (e.g. 1, 2, ...)\n",
    "    * Align your bars using the align='center' keyword argument.\n",
    "    \n",
    "    Parameters\n",
    "    ----------\n",
    "    hyps: a Numpy array with 2 dimensions\n",
    "        The hypotheses from the animal data set explored above.\n",
    "    prior: a Numpy array\n",
    "        Prior probabilities for each hypothesis.\n",
    "    name : string\n",
    "        The name of the animal observed to have protein K.\n",
    "    animal_names : list of strings\n",
    "        A list of all animal names\n",
    "    \n",
    "    \"\"\"\n",
    "    # YOUR CODE HERE\n",
    "    raise NotImplementedError()"
   ]
  },
  {
   "cell_type": "markdown",
   "metadata": {
    "deletable": false,
    "nbgrader": {}
   },
   "source": [
    "Now, instead of just calling `prob_clusters_have_k` to see the probabilities given that a chimp has protein K, we can plot it:"
   ]
  },
  {
   "cell_type": "code",
   "execution_count": null,
   "metadata": {
    "deletable": false,
    "nbgrader": {}
   },
   "outputs": [],
   "source": [
    "# load the data\n",
    "data = np.load(\"data/animals.npz\")\n",
    "hyps = data['hyps']\n",
    "prior = data['prior']\n",
    "animal_names = list(data['names'])\n",
    "\n",
    "fig, axis = plt.subplots()\n",
    "plot_prob_clusters_have_k(axis, hyps, prior, 'chimp', animal_names)"
   ]
  },
  {
   "cell_type": "code",
   "execution_count": null,
   "metadata": {
    "deletable": false,
    "nbgrader": {
     "checksum": "9b58224da315c03b53076936c9f41984",
     "grade": true,
     "grade_id": "test_plot_prob_clusters_have_k",
     "points": 0.5
    }
   },
   "outputs": [],
   "source": [
    "\"\"\"Is plot_prob_clusters_have_k implemented correctly?\"\"\"\n",
    "from nose.tools import assert_not_equal\n",
    "from numpy.testing import assert_array_equal\n",
    "\n",
    "# load the data\n",
    "data = np.load(\"data/animals.npz\")\n",
    "hyps = data['hyps']\n",
    "prior = data['prior']\n",
    "animal_names = list(data['names'])\n",
    "\n",
    "# make sure it calls prob_clusters_have_k\n",
    "fig, axis = plt.subplots()\n",
    "old_prob_clusters_have_k = prob_clusters_have_k\n",
    "del prob_clusters_have_k\n",
    "try:\n",
    "    plot_prob_clusters_have_k(axis, hyps, prior, 'chimp', animal_names)\n",
    "except NameError:\n",
    "    pass\n",
    "else:\n",
    "    raise AssertionError(\"plot_prob_clusters_have_k does not call prob_clusters_have_k\")\n",
    "finally:\n",
    "    prob_clusters_have_k = old_prob_clusters_have_k\n",
    "    del old_prob_clusters_have_k\n",
    "plt.close()\n",
    "\n",
    "for i, name in enumerate(animal_names):\n",
    "    fig, axis = plt.subplots()\n",
    "    \n",
    "    # create the plot\n",
    "    plot_prob_clusters_have_k(axis, hyps, prior, name, animal_names)\n",
    "    \n",
    "    # check y-data\n",
    "    actual = np.array([p.get_height() for p in axis.patches])\n",
    "    expected = prob_clusters_have_k(hyps, prior, i)\n",
    "    assert_array_equal(actual, expected)\n",
    "\n",
    "    # check x-data\n",
    "    actual = np.array([p.get_x() for p in axis.patches])\n",
    "    expected = np.arange(1, len(hyps) + 1) - 0.4\n",
    "    assert_array_equal(actual, expected)\n",
    "\n",
    "    # check the axis labels\n",
    "    assert_not_equal(axis.get_xlabel(), \"\")\n",
    "    assert_not_equal(axis.get_ylabel(), \"\")\n",
    "    \n",
    "    # check the title\n",
    "    assert name in axis.get_title(), \"the animal name is not in the title of the plot\"\n",
    "    \n",
    "    plt.close()\n",
    "    \n",
    "print(\"Success!\")"
   ]
  },
  {
   "cell_type": "markdown",
   "metadata": {
    "deletable": false,
    "nbgrader": {}
   },
   "source": [
    "---\n",
    "## Part C (1 point)\n",
    "\n",
    "The probability that another animal $Y$ has blood that contains\n",
    "protein K can be computed by averaging over the set of hypotheses,\n",
    "using the posterior distribution. That is, the probability that animal\n",
    "$Y$ is in the set $C$ of animals that have blood containing protein K\n",
    "is\n",
    "\n",
    "\\begin{equation}\n",
    "p(Y \\in C\\ |\\ d) = \\sum_h p(Y \\in C\\ |\\ h) p(h\\ |\\ d)\n",
    "\\end{equation}\n",
    "\n",
    "where $p(Y \\in C\\ |\\ h) = 1$ if the animal $Y$ is in hypothesis $h$, and\n",
    "$0$ otherwise."
   ]
  },
  {
   "cell_type": "markdown",
   "metadata": {
    "deletable": false,
    "nbgrader": {}
   },
   "source": [
    "<div class=\"alert alert-success\">\n",
    "Compute the probability that each of the nine other animals has blood that contains protein K.\n",
    "</div>"
   ]
  },
  {
   "cell_type": "code",
   "execution_count": null,
   "metadata": {
    "deletable": false,
    "nbgrader": {
     "checksum": "52a61603aab9ab8b0d69d5805ec5dd72",
     "grade_id": "prob_animals_have_k",
     "solution": true
    }
   },
   "outputs": [],
   "source": [
    "def prob_animals_have_k(hyps, prior, animal_idx):\n",
    "    \"\"\"Returns the posterior probabiltiy of each animal having protein\n",
    "    K given that the given animal is observed to have protein K. You should\n",
    "    call prob_clusters_have_k as part of your solution.\n",
    "    \n",
    "    Parameters\n",
    "    ----------\n",
    "    hyps: a Numpy array with 2 dimensions\n",
    "        The hypotheses from the animal data set explored above.\n",
    "    prior: a Numpy array\n",
    "        Prior probabilities for each hypothesis.\n",
    "    animal_idx : integer\n",
    "        The index of the animal observed to have protein K.\n",
    "        \n",
    "    Returns\n",
    "    -------\n",
    "    An array with one entry per animal containing its posterior probability\n",
    "    of having protein K.\n",
    "    \n",
    "    \"\"\"\n",
    "    # YOUR CODE HERE\n",
    "    raise NotImplementedError()"
   ]
  },
  {
   "cell_type": "markdown",
   "metadata": {
    "deletable": false,
    "nbgrader": {}
   },
   "source": [
    "Again, assuming we've observed a chimp with protein K, what is the probability that each of the other animals has it?"
   ]
  },
  {
   "cell_type": "code",
   "execution_count": null,
   "metadata": {
    "deletable": false,
    "nbgrader": {}
   },
   "outputs": [],
   "source": [
    "# load the data\n",
    "data = np.load(\"data/animals.npz\")\n",
    "hyps = data['hyps']\n",
    "prior = data['prior']\n",
    "animal_names = list(data['names'])\n",
    "\n",
    "prob_animals_have_k(hyps, prior, animal_names.index('chimp'))"
   ]
  },
  {
   "cell_type": "code",
   "execution_count": null,
   "metadata": {
    "deletable": false,
    "nbgrader": {
     "checksum": "1f6a910dedbfacbeb6f54c43370ab07d",
     "grade": true,
     "grade_id": "test_prob_animals_have_k",
     "points": 1
    }
   },
   "outputs": [],
   "source": [
    "\"Check that prob_animals_have_k is correct\"\n",
    "\n",
    "from numpy.testing import assert_allclose\n",
    "\n",
    "expected1 = np.array([\n",
    "    1.        ,  0.58452138,  0.15071283,  0.15071283,  0.07331976,\n",
    "    0.07331976,  0.02443992,  0.02443992,  0.30346232,  0.30346232])\n",
    "actual1 = prob_animals_have_k(hyps, prior, 0)\n",
    "assert_allclose(actual1, expected1)\n",
    "\n",
    "expected2 = np.array([\n",
    "    0.22008863,  0.22008863,  0.10930576,  0.10930576,  0.05317578,\n",
    "    0.05317578,  0.01772526,  0.01772526,  1.        ,  0.68094535])\n",
    "actual2 = prob_animals_have_k(hyps, prior, 8)\n",
    "assert_allclose(actual2, expected2)\n",
    "\n",
    "expected3 = np.array([\n",
    "    0.22008863,  0.22008863,  0.10930576,  0.10930576,  0.05317578,\n",
    "    0.05317578,  0.01772526,  0.01772526,  0.68094535,  1.        ])\n",
    "actual3 = prob_animals_have_k(hyps, prior, 9)\n",
    "assert_allclose(actual3, expected3)\n",
    "\n",
    "# make sure it calls prob_clusters_have_k\n",
    "fig, axis = plt.subplots()\n",
    "old_prob_clusters_have_k = prob_clusters_have_k\n",
    "del prob_clusters_have_k\n",
    "try:\n",
    "    prob_animals_have_k(hyps, prior, 9)\n",
    "except NameError:\n",
    "    pass\n",
    "else:\n",
    "    raise AssertionError(\"prob_animals_have_k does not call prob_clusters_have_k\")\n",
    "finally:\n",
    "    prob_clusters_have_k = old_prob_clusters_have_k\n",
    "    del old_prob_clusters_have_k\n",
    "plt.close()\n",
    "\n",
    "print(\"Success!\")"
   ]
  },
  {
   "cell_type": "markdown",
   "metadata": {
    "deletable": false,
    "nbgrader": {}
   },
   "source": [
    "# Part D (0.5 points)"
   ]
  },
  {
   "cell_type": "markdown",
   "metadata": {
    "deletable": false,
    "nbgrader": {}
   },
   "source": [
    "<div class=\"alert alert-success\">\n",
    "As before, let's visualize these probabilities with a bar graph. Create a bar plot (using `axis.bar`) of the posterior probability of each animal having protein K given that an observed animal has protein K.\n",
    "</div>"
   ]
  },
  {
   "cell_type": "code",
   "execution_count": null,
   "metadata": {
    "deletable": false,
    "nbgrader": {
     "checksum": "14fe87aae50cd2206933ecb93d2523a9",
     "grade_id": "plot_prob_animals_have_k",
     "solution": true
    }
   },
   "outputs": [],
   "source": [
    "def plot_prob_animals_have_k(axis, hyps, prior, name, animal_names):\n",
    "    \"\"\"Plots the posterior probabiltiy of each animal having\n",
    "    protein K given that a given animal is observed to have \n",
    "    protein K. Your function should call prob_animals_have_k.\n",
    "        \n",
    "    * Your function should call prob_animals_have_k.\n",
    "    * You should give your plot an informative title that includes the\n",
    "      name of the observed animal.\n",
    "    * Set the xticks to be a range of integers from 0 to the number of\n",
    "      animal names.\n",
    "    * Set the xtick labels (with `axis.set_xticklabels`) to be the animal\n",
    "      names. You will probably want to use a rotation of -90 degrees so\n",
    "      that the names are legible. To see how to achieve this, check the\n",
    "      documentation for `axis.set_xticklabels`\n",
    "    * Be sure to include proper axis labels!\n",
    "    * Align your bars using the align='center' keyword argument to \n",
    "      `axis.bar`\n",
    "    \n",
    "    Parameters\n",
    "    ----------\n",
    "    hyps: a Numpy array with 2 dimensions\n",
    "        The hypotheses from the animal data set explored above.\n",
    "    prior: a Numpy array\n",
    "        Prior probabilities for each hypothesis.\n",
    "    name : string\n",
    "        The name of the animal observed to have protein K.\n",
    "    animal_names : list of strings\n",
    "        A list of all animal names\n",
    "    \n",
    "    \"\"\"\n",
    "    # YOUR CODE HERE\n",
    "    raise NotImplementedError()"
   ]
  },
  {
   "cell_type": "markdown",
   "metadata": {
    "deletable": false,
    "nbgrader": {}
   },
   "source": [
    "Now let's try it out, again assuming we've observed that a chimp has protein K:"
   ]
  },
  {
   "cell_type": "code",
   "execution_count": null,
   "metadata": {
    "deletable": false,
    "nbgrader": {}
   },
   "outputs": [],
   "source": [
    "# load the data\n",
    "data = np.load(\"data/animals.npz\")\n",
    "hyps = data['hyps']\n",
    "prior = data['prior']\n",
    "animal_names = list(data['names'])\n",
    "\n",
    "fig, axis = plt.subplots()\n",
    "plot_prob_animals_have_k(axis, hyps, prior, 'chimp', animal_names)"
   ]
  },
  {
   "cell_type": "code",
   "execution_count": null,
   "metadata": {
    "deletable": false,
    "nbgrader": {
     "checksum": "7e3653a28acd853e2b46fc8ea5f9b16a",
     "grade": true,
     "grade_id": "test_plot_prob_animals_have_k",
     "points": 0.5
    }
   },
   "outputs": [],
   "source": [
    "\"\"\"Is plot_prob_animals_have_k implemented correctly?\"\"\"\n",
    "from nose.tools import assert_not_equal, assert_equal\n",
    "from numpy.testing import assert_array_equal\n",
    "\n",
    "# load the data\n",
    "data = np.load(\"data/animals.npz\")\n",
    "hyps = data['hyps']\n",
    "prior = data['prior']\n",
    "animal_names = list(data['names'])\n",
    "\n",
    "# make sure it calls prob_clusters_have_k\n",
    "fig, axis = plt.subplots()\n",
    "old_prob_animals_have_k = prob_animals_have_k\n",
    "del prob_animals_have_k\n",
    "try:\n",
    "    plot_prob_animals_have_k(axis, hyps, prior, 'chimp', animal_names)\n",
    "except NameError:\n",
    "    pass\n",
    "else:\n",
    "    raise AssertionError(\"plot_prob_animals_have_k does not call prob_animals_have_k\")\n",
    "finally:\n",
    "    prob_animals_have_k = old_prob_animals_have_k\n",
    "    del old_prob_animals_have_k\n",
    "plt.close()\n",
    "\n",
    "for i, name in enumerate(animal_names):\n",
    "    fig, axis = plt.subplots()\n",
    "    \n",
    "    # create the plot\n",
    "    plot_prob_animals_have_k(axis, hyps, prior, name, animal_names)\n",
    "    \n",
    "    # check y-data\n",
    "    actual = np.array([p.get_height() for p in axis.patches])\n",
    "    expected = prob_animals_have_k(hyps, prior, i)\n",
    "    assert_array_equal(actual, expected)\n",
    "\n",
    "    # check x-data\n",
    "    actual = np.array([p.get_x() for p in axis.patches])\n",
    "    expected = np.arange(len(animal_names)) - 0.4\n",
    "    assert_array_equal(actual, expected)\n",
    "\n",
    "    # check the axis labels\n",
    "    assert_not_equal(axis.get_xlabel(), \"\")\n",
    "    assert_not_equal(axis.get_ylabel(), \"\")\n",
    "    \n",
    "    # check xticks\n",
    "    assert_array_equal(axis.get_xticks(), np.arange(len(animal_names)))\n",
    "    assert_array_equal([x.get_text() for x in axis.get_xticklabels()], animal_names)\n",
    "    \n",
    "    # check the title\n",
    "    assert name in axis.get_title(), \"the animal name is not in the title of the plot\"\n",
    "    \n",
    "    plt.close()\n",
    "    \n",
    "print(\"Success!\")"
   ]
  },
  {
   "cell_type": "markdown",
   "metadata": {
    "deletable": false,
    "nbgrader": {}
   },
   "source": [
    "---\n",
    "## Part E (0.75 points)"
   ]
  },
  {
   "cell_type": "markdown",
   "metadata": {
    "deletable": false,
    "nbgrader": {}
   },
   "source": [
    "<div class=\"alert alert-success\">\n",
    "Find a willing experimental participant who is not in this class. Tell them that, in the context of this experiment, scientists recently discovered that the blood of chimps contains protein K. Then, for all ten animals, ask them to rate how likely it is that each animal has blood containing protein K, using a scale from 1 to 7. On this scale, 7 indicates that the animal definitely DOES have blood containing protein K, 1 indicates that it definitely DOES NOT have blood containing protein K, and 4 indicates an even bet. Note that chimps are index 2.\n",
    "</div>"
   ]
  },
  {
   "cell_type": "markdown",
   "metadata": {
    "deletable": false,
    "nbgrader": {}
   },
   "source": [
    "The ratings you collect should be in the same order as the list of animal names:"
   ]
  },
  {
   "cell_type": "code",
   "execution_count": null,
   "metadata": {
    "deletable": false,
    "nbgrader": {}
   },
   "outputs": [],
   "source": [
    "data = np.load(\"data/animals.npz\")\n",
    "list(data['names'])"
   ]
  },
  {
   "cell_type": "code",
   "execution_count": null,
   "metadata": {
    "deletable": false,
    "nbgrader": {
     "checksum": "5743d092b40e3189500c2f56f21d888b",
     "grade_id": "participant_ratings_elephants",
     "solution": true
    }
   },
   "outputs": [],
   "source": [
    "def participant_ratings_chimps():\n",
    "    \"\"\"Participant ratings of how likely each animal is to have\n",
    "    protein K after observing that a chimp has protein K, on\n",
    "    a scale from 1 (least likely) to 7 (most likely).\n",
    "    \n",
    "    Parameters\n",
    "    ----------\n",
    "    None.\n",
    "        \n",
    "    Returns\n",
    "    -------\n",
    "    A numpy array of participant ratings, one for each animal.\n",
    "    \n",
    "    \"\"\"\n",
    "    # YOUR CODE HERE\n",
    "    raise NotImplementedError()"
   ]
  },
  {
   "cell_type": "code",
   "execution_count": null,
   "metadata": {
    "deletable": false,
    "nbgrader": {
     "checksum": "87d77fbdbeea695422d8c47667295cfd",
     "grade": true,
     "grade_id": "test_participant_ratings_elephants",
     "points": 0.75
    }
   },
   "outputs": [],
   "source": [
    "\"\"\"Is participant_ratings_chimp in the proper format?\"\"\"\n",
    "\n",
    "data = np.load(\"data/animals.npz\")\n",
    "hyps = data['hyps']\n",
    "prior = data['prior']\n",
    "animal_names = list(data['names'])\n",
    "\n",
    "ratings = participant_ratings_chimps()\n",
    "\n",
    "# Make sure that there are 10 ratings.\n",
    "assert(len(ratings) == 10)\n",
    "\n",
    "# Make sure that the ratings are between 1 and 7.\n",
    "assert(all([r <= 7 for r in ratings]))\n",
    "assert(all([r >= 1 for r in ratings]))\n",
    "\n",
    "if not any([r == 7 for r in ratings]):\n",
    "    print(\"Mild warning: isn't it surprising that no ratings are 7?\")\n",
    "\n",
    "print(\"Success!\")"
   ]
  },
  {
   "cell_type": "markdown",
   "metadata": {
    "deletable": false,
    "nbgrader": {}
   },
   "source": [
    "Now let's visualize the results and compare them to our model's predictions:"
   ]
  },
  {
   "cell_type": "code",
   "execution_count": null,
   "metadata": {
    "deletable": false,
    "nbgrader": {
     "checksum": "33a0fd098c508c38ccd58f7597b4af51",
     "grade": false,
     "grade_id": "plot_participant_ratings_elephants",
     "locked": true,
     "solution": false
    }
   },
   "outputs": [],
   "source": [
    "# get the human data\n",
    "human = participant_ratings_chimps()\n",
    "\n",
    "# load the model data\n",
    "data = np.load(\"data/animals.npz\")\n",
    "hyps = data['hyps']\n",
    "prior = data['prior']\n",
    "animal_names = list(data['names'])\n",
    "\n",
    "fig, (axis1, axis2) = plt.subplots(1, 2)\n",
    "\n",
    "# plot the model probabilities\n",
    "plot_prob_animals_have_k(axis1, hyps, prior, 'chimp', animal_names)\n",
    "\n",
    "# plot the human judgments\n",
    "axis2.bar(np.arange(hyps.shape[1]), human, align='center')\n",
    "axis2.set_xlabel('Animals')\n",
    "axis2.set_ylabel('Posterior probability')\n",
    "axis2.set_title('Human judgments after observing chimps have protein K')\n",
    "axis2.set_xticks(np.arange(hyps.shape[1]))\n",
    "axis2.set_xticklabels(animal_names, rotation=-90)\n",
    "\n",
    "# make the figure size nicer\n",
    "fig.set_figwidth(14)"
   ]
  },
  {
   "cell_type": "markdown",
   "metadata": {
    "deletable": false,
    "nbgrader": {}
   },
   "source": [
    "---\n",
    "## Part F (1.25 points)\n",
    "\n",
    "Now let's compare your experimental results with the predictions of the Bayesian generalization model by computing the correlation between them. The correlation coefficient\n",
    "is a score indicating the degree of correspondence, ranging from -1 to 1, where 1 means that\n",
    "the model and predictions are perfectly correlated, 0 means that they are unrelated, and -1\n",
    "means that they are anti-correlated (the higher the model's rating, the lower the human's rating)."
   ]
  },
  {
   "cell_type": "code",
   "execution_count": null,
   "metadata": {
    "deletable": false,
    "nbgrader": {
     "checksum": "9d1091bf331d6ff956ef2a2fd414b17b",
     "grade": false,
     "grade_id": "compute_correlation",
     "locked": true,
     "solution": false
    }
   },
   "outputs": [],
   "source": [
    "model = prob_animals_have_k(hyps, prior, 2)\n",
    "human = participant_ratings_chimps()\n",
    "\n",
    "correlation = np.corrcoef(model, human)[0, 1]\n",
    "print(\"Correlation between model and human: \" + str(correlation))"
   ]
  },
  {
   "cell_type": "markdown",
   "metadata": {
    "deletable": false,
    "nbgrader": {}
   },
   "source": [
    "<div class=\"alert alert-success\">\n",
    "What is the correlation?  Based on looking at your plots from parts D\n",
    "and E, are there any systematic differences between your participant's\n",
    "judgments and the model predictions?\n",
    "</div>"
   ]
  },
  {
   "cell_type": "markdown",
   "metadata": {
    "collapsed": true,
    "deletable": false,
    "nbgrader": {
     "checksum": "ed1c105d5f72e6b8f793148835eecca7",
     "grade": true,
     "grade_id": "interpret_correlation",
     "points": 1.25,
     "solution": true
    }
   },
   "source": [
    "YOUR ANSWER HERE"
   ]
  },
  {
   "cell_type": "markdown",
   "metadata": {
    "deletable": false,
    "nbgrader": {}
   },
   "source": [
    "---"
   ]
  },
  {
   "cell_type": "markdown",
   "metadata": {
    "deletable": false,
    "nbgrader": {}
   },
   "source": [
    "Before turning this problem in remember to do the following steps:\n",
    "\n",
    "1. **Restart the kernel** (Kernel$\\rightarrow$Restart)\n",
    "2. **Run all cells** (Cell$\\rightarrow$Run All)\n",
    "3. **Save** (File$\\rightarrow$Save and Checkpoint)"
   ]
  },
  {
   "cell_type": "markdown",
   "metadata": {
    "deletable": false,
    "nbgrader": {
     "cell_type": "release"
    }
   },
   "source": [
    "<div class=\"alert alert-danger\">After you have completed these three steps, ensure that the following cell has printed \"No errors\". If it has <b>not</b> printed \"No errors\", then your code has a bug in it and has thrown an error! Make sure you fix this error before turning in your problem set.</div>"
   ]
  },
  {
   "cell_type": "code",
   "execution_count": null,
   "metadata": {
    "deletable": false,
    "nbgrader": {}
   },
   "outputs": [],
   "source": [
    "print(\"No errors!\")"
   ]
  }
 ],
 "metadata": {
  "kernelspec": {
   "display_name": "Python 3",
   "language": "python",
   "name": "python3"
  },
  "language_info": {
   "codemirror_mode": {
    "name": "ipython",
    "version": 3
   },
   "file_extension": ".py",
   "mimetype": "text/x-python",
   "name": "python",
   "nbconvert_exporter": "python",
   "pygments_lexer": "ipython3",
   "version": "3.4.3"
  }
 },
 "nbformat": 4,
 "nbformat_minor": 1
}
