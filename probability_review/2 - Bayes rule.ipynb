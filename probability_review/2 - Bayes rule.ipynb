{
 "cells": [
  {
   "cell_type": "markdown",
   "metadata": {
    "deletable": false,
    "nbgrader": {
     "cell_type": "release"
    }
   },
   "source": [
    "Make sure you fill in any place that says `YOUR CODE HERE` or \"YOUR ANSWER HERE\", as well as your collaborators below:"
   ]
  },
  {
   "cell_type": "code",
   "execution_count": null,
   "metadata": {
    "deletable": false,
    "nbgrader": {
     "cell_type": "release"
    }
   },
   "outputs": [],
   "source": [
    "COLLABORATORS = \"\""
   ]
  },
  {
   "cell_type": "markdown",
   "metadata": {
    "deletable": false,
    "nbgrader": {}
   },
   "source": [
    "---"
   ]
  },
  {
   "cell_type": "code",
   "execution_count": null,
   "metadata": {
    "deletable": false
   },
   "outputs": [],
   "source": [
    "import numpy as np"
   ]
  },
  {
   "cell_type": "markdown",
   "metadata": {
    "deletable": false
   },
   "source": [
    "# Bayes' rule for discrete hypotheses\n",
    "\n",
    "$$ P(h|d)=\\frac{P(d|h)\\cdot P(h)}{P(d)}$$\n",
    "\n",
    "Posterior = Prior * Likelihood / Evidence"
   ]
  },
  {
   "cell_type": "markdown",
   "metadata": {
    "deletable": false
   },
   "source": [
    "## Example: Medical diagnosis.\n",
    "\n",
    "![](images/graphmod1.png)\n",
    "\n",
    "### Data:\n",
    "The patient coughed ($C=1$)."
   ]
  },
  {
   "cell_type": "markdown",
   "metadata": {
    "deletable": false
   },
   "source": [
    "### Hypotheses ($H$):\n",
    "1. Healthy ($h_0$)\n",
    "1. Cold ($h_1$)\n",
    "1. Lung cancer ($h_2$)\n",
    "\n",
    "### Prior probabilities ($P(H)$):\n",
    "1. $P(h_0)=0.90$\n",
    "1. $P(h_1)=0.09$\n",
    "1. $P(h_2)=0.01$"
   ]
  },
  {
   "cell_type": "markdown",
   "metadata": {
    "deletable": false
   },
   "source": [
    "### Likelihood function ($P(D|H)$):\n",
    "1. $P(C=1|h_0)=0.01$\n",
    "1. $P(C=1|h_1)=0.5$\n",
    "1. $P(C=1|h_2)=0.99$\n",
    "\n",
    "### Posterior ($P(H|d)$)\n",
    "\n",
    "According to Bayes' rule the posterior probability of having a cold ($h_2$) is \n",
    "$$P(H=h_2|C=1)=\\frac{P(h_2)\\cdot P(d|h_2)}{P(C=1)}.$$\n",
    "\n",
    "The marginal probability of the data is\n",
    "$$P(C=1)=\\sum_h P(h)\\cdot P(C=1|h).$$"
   ]
  },
  {
   "cell_type": "code",
   "execution_count": null,
   "metadata": {
    "deletable": false
   },
   "outputs": [],
   "source": [
    "#hypotheses (H)\n",
    "hypotheses=np.array([0,1,2])\n",
    "\n",
    "#data (D)\n",
    "C=1\n",
    "\n",
    "#prior (P(h))\n",
    "p_h=np.array([0.9, 0.09, 0.01])\n",
    "\n",
    "#likelihood (P(d|h))\n",
    "p_cough_given_h=np.array([0.01,0.5,0.99])\n",
    "p_not_cough_given_h=1-p_cough_given_h\n",
    "p_d_given_h = np.array([p_not_cough_given_h,p_cough_given_h])\n",
    "\n",
    "#marginal probability of the data\n",
    "p_d=np.sum(p_h * p_d_given_h[C,:])\n",
    "\n",
    "#Bayes rule\n",
    "p_healthy_given_cough = p_h[0] * p_d_given_h[C,0] / p_d\n",
    "p_cold_given_cough = p_h[1] * p_d_given_h[C,1] / p_d\n",
    "p_lung_cancer_given_cough = p_h[2] * p_d_given_h[C,2] / p_d\n",
    "\n",
    "print(\"P(Healthy=1|Cough=1)={}\".format(p_healthy_given_cough))\n",
    "print(\"P(Cold=1|Cough=1)={}\".format(p_cold_given_cough))\n",
    "print(\"P(LungCancer=1|Cough=1)={}\".format(p_lung_cancer_given_cough))"
   ]
  },
  {
   "cell_type": "code",
   "execution_count": null,
   "metadata": {
    "deletable": false
   },
   "outputs": [],
   "source": [
    "#Getting the entire posterior at once by vectorized computation\n",
    "p_h_given_d = p_h * p_d_given_h[C,:] / np.sum(p_h * p_d_given_h[C])\n",
    "p_h_given_d "
   ]
  },
  {
   "cell_type": "code",
   "execution_count": null,
   "metadata": {
    "deletable": false
   },
   "outputs": [],
   "source": [
    "#Posterior = Joint / Marginal probability of the data (aka. evidence)\n",
    "joint=p_h * p_d_given_h[C,:]\n",
    "p_of_d= np.sum(p_h * p_d_given_h[C])\n",
    "\n",
    "posterior = joint/p_of_d\n",
    "posterior"
   ]
  },
  {
   "cell_type": "code",
   "execution_count": null,
   "metadata": {
    "deletable": false
   },
   "outputs": [],
   "source": [
    "#What if the patient hadn't coughed?\n",
    "c0=0\n",
    "p_h_given_d = p_h * p_d_given_h[c0,:] / np.sum(p_h * p_d_given_h[c0])\n",
    "p_h_given_d "
   ]
  },
  {
   "cell_type": "markdown",
   "metadata": {
    "deletable": false
   },
   "source": [
    "## Example 2: Biased Coins and Magic Powers\n",
    "\n",
    "![](images/graphmod2.png)\n",
    "\n",
    "### Hypotheses:\n",
    "1. $h_{0,0}$: unbiased coin and no magic powers ($B=0 \\wedge M=0$)\n",
    "1. $h_{0,1}$: unbiased coin and magic powers ($B=0 \\wedge M=1$) \n",
    "1. $h_{1,0}$: biased coin and no magic powers ($B=1 \\wedge M=0$)\n",
    "1. $h_{1,1}$: biased coin and magic powers ($B=1 \\wedge M=1$)\n"
   ]
  },
  {
   "cell_type": "code",
   "execution_count": null,
   "metadata": {
    "deletable": false
   },
   "outputs": [],
   "source": [
    "hypotheses=np.array([[0,0],[0,1],[1,0],[1,1]])"
   ]
  },
  {
   "cell_type": "markdown",
   "metadata": {
    "deletable": false
   },
   "source": [
    "### Priors:\n",
    "1. $P(M=1)=0.001$\n",
    "1. $P(B=1)=0.01$\n",
    "1. $P(M=m,B=b)=P(M=m)\\cdot P(B=b)$"
   ]
  },
  {
   "cell_type": "code",
   "execution_count": null,
   "metadata": {
    "deletable": false
   },
   "outputs": [],
   "source": [
    "#priors\n",
    "def prior(m,b):\n",
    "    p_m=np.array([0.999,0.001])\n",
    "    p_b=np.array([0.99,0.01])\n",
    "    return p_m[m]*p_b[b]"
   ]
  },
  {
   "cell_type": "markdown",
   "metadata": {
    "deletable": false
   },
   "source": [
    "### Likelihoods:\n",
    "1. P(C=1|M=0,B=0)=0.5\n",
    "1. P(C=1|M=0,B=1)=0.6\n",
    "1. P(C=1|M=1,B=0)=1\n",
    "1. P(C=1|M=1,B=1)=1"
   ]
  },
  {
   "cell_type": "code",
   "execution_count": null,
   "metadata": {
    "deletable": false
   },
   "outputs": [],
   "source": [
    "def likelihood(c,m,b):\n",
    "    if m==0 and b==0:\n",
    "        return 0.5\n",
    "    elif m==0 and b==1:\n",
    "        if c==1:\n",
    "            return 0.6\n",
    "        else:\n",
    "            return 0.4\n",
    "    elif m==1:\n",
    "        if c==1:\n",
    "            return 1\n",
    "        else:\n",
    "            return 0"
   ]
  },
  {
   "cell_type": "markdown",
   "metadata": {
    "deletable": false
   },
   "source": [
    "### Posterior\n",
    "$ P(M=m,B=b|C)=\\frac{P(C|M=m,B=b)\\cdot P(M=m,B=b)}{\\sum_{m'} \\sum_{b'} P(M=m', B=b') \\cdot P(C|m', b')}$\n"
   ]
  },
  {
   "cell_type": "code",
   "execution_count": null,
   "metadata": {
    "deletable": false
   },
   "outputs": [],
   "source": [
    "C=1 # we observed one head\n",
    "\n",
    "def posterior(m,b,d):\n",
    "    \n",
    "    #compute the numerator: the joint probability\n",
    "    joint=prior(m,b)*likelihood(d,m,b)\n",
    "    \n",
    "    if joint==0:\n",
    "        return 0;\n",
    "    \n",
    "    #compute the denominator: the marginal probability of the data     \n",
    "    p_of_d=0\n",
    "    for b_prime in [0,1]:\n",
    "        for m_prime in [0,1]:\n",
    "            p_of_d+=prior(m_prime,b_prime)*likelihood(d,m_prime,b_prime)\n",
    "    \n",
    "    return joint/p_of_d\n",
    "\n",
    "for m in [0, 1]:\n",
    "    for b in [0, 1]:\n",
    "        print(\"P(M={}, B={} | C=1) = {}\".format(m, b, posterior(m, b,C)))\n",
    "#[[posterior(0,0,C),posterior(0,1,C)],[posterior(1,0,C),posterior(1,1,C)]]"
   ]
  },
  {
   "cell_type": "code",
   "execution_count": null,
   "metadata": {
    "deletable": false
   },
   "outputs": [],
   "source": [
    "#How strongly should we believe your friend has magic powers after the coin came up heads?\n",
    "posterior(1,0,C)+posterior(1,1,C)"
   ]
  },
  {
   "cell_type": "code",
   "execution_count": null,
   "metadata": {
    "deletable": false
   },
   "outputs": [],
   "source": [
    "#How strongly should we believe that the coin is biased given that it came up heads?\n",
    "posterior(0,1,C)+posterior(1,1,C)"
   ]
  },
  {
   "cell_type": "markdown",
   "metadata": {
    "deletable": false
   },
   "source": [
    "## Bayes' Rule\n",
    "\n",
    "From the definition of conditional probabilities, we know that $P(H=h_2|C=1)=\\frac{P(h_2,C=1)}{P(C=1)}$, but we know neither the numerator nor the denominator. :(\n",
    "\n",
    "But we can compute them! :) \n",
    "\n",
    "### Step 1: Find the numerator\n",
    "Let's start with the numerator. We have to compute the joint probability. We know that $P(C=1|h_2)=\\frac{P(h_2,C=1)}{P(h_2)}$ from the definition of conditional probabilities. The great thing is that we know both the prior $P(h_2)$ and the likelihood $P(d|h)$. Thus, if we multiply both sides by $P(h_2)$, then we get $P(h_2,C=1)=P(h_2)\\cdot P(C=1|h_2)$ and now we can compute the joint probability. (It is $0.01 \\cdot 0.5 = 0.005$) This is an example of the product rule.\n",
    "\n",
    "Now that we know the numerator, we got $P(H=h_2|C=1)=\\frac{P(h_2) \\cdot P(C=1|h_2)}{P(C=1)}$.\n",
    "\n",
    "## Step 2: Find the denominator\n",
    "Now let's figure out the denominator. So we still have to compute the marginal probability of coughing ($C=1$).\n",
    "\n",
    "$P(C=1)=\\sum_h P(h,C=1) = P(h_0,C=1) + P(h_1,C=1) + P(h_2,C=1)$\n",
    "\n",
    "--> This requires the joint distribution $P(H,C)$:\n",
    "\n",
    "$P(H,C)=P(H)\\cdot P(C|H)$. Hence, $P(h_0,C=1)= P(h_0)\\cdot P(C=1|h_0)$ and likewise for the other hypotheses. In general, we can write $P(C,h)=P(h)\\cdot P(C|h)$.\n",
    "\n",
    "If we plug this into the equation for the marginal probability of the data, then we get\n",
    "\n",
    "$P(C=1)=\\sum_h P(h)\\cdot P(C=1|h) = P(h_0)\\cdot P(C=1|h_0) + P(h_1)\\cdot P(C=1|h_1)  + P(h_2)\\cdot P(C=1|h_2)$\n",
    "\n",
    "Alright, now we have got everything we need to compute the posterior distribution. If we plug the equation for the marginal probability of the data into the equation for the posterior, then we get\n",
    "\n",
    "$P(h_2|C=1)=\\frac{P(h_2)\\cdot P(C=1|h_2)}{\\sum_h P(h)\\cdot P(C=1|h)}$.\n",
    "\n",
    "## Step 3: Generalize the result\n",
    "\n",
    "Nothing in this derivation depended on the value of $H$ being $h_2$ or the data $d$ being $C=1$. Hence, our result holds for all hypotheses and all data sets $d$:\n",
    "\n",
    "$P(h|d)=\\frac{P(h)\\cdot P(d|h)}{\\sum_h P(h)\\cdot P(d|h)}$\n",
    "\n",
    "This is Bayes rule! Congratulations, if you followed along, you have just derived Bayes' rule!"
   ]
  },
  {
   "cell_type": "code",
   "execution_count": null,
   "metadata": {
    "deletable": false
   },
   "outputs": [],
   "source": [
    "p_h_given_d = p_h * p_d_given_h[C] / np.sum(p_h * p_d_given_h[C])\n",
    "\n",
    "p_h_given_d\n"
   ]
  },
  {
   "cell_type": "markdown",
   "metadata": {
    "deletable": false
   },
   "source": [
    "# Posterior Odds"
   ]
  },
  {
   "cell_type": "markdown",
   "metadata": {
    "deletable": false
   },
   "source": [
    "Posterior odds = Prior Odds x Likelihood Ratio\n",
    "\n",
    "$\\frac{P(h_1|d)}{P(h_2|d)}=\\frac{P(h_1)}{P(h_2)}\\cdot \\frac{P(d|h_1)}{P(d|h_2)}$"
   ]
  },
  {
   "cell_type": "code",
   "execution_count": null,
   "metadata": {
    "deletable": false
   },
   "outputs": [],
   "source": [
    "p_h_given_d[1]/p_h_given_d[2]"
   ]
  },
  {
   "cell_type": "code",
   "execution_count": null,
   "metadata": {
    "deletable": false
   },
   "outputs": [],
   "source": [
    "p_h[1]/p_h[2]"
   ]
  },
  {
   "cell_type": "code",
   "execution_count": null,
   "metadata": {
    "deletable": false
   },
   "outputs": [],
   "source": [
    "p_d_given_h[C,1]/p_d_given_h[C,2]"
   ]
  },
  {
   "cell_type": "code",
   "execution_count": null,
   "metadata": {
    "deletable": false
   },
   "outputs": [],
   "source": []
  },
  {
   "cell_type": "markdown",
   "metadata": {
    "deletable": false,
    "nbgrader": {}
   },
   "source": [
    "---"
   ]
  },
  {
   "cell_type": "markdown",
   "metadata": {
    "deletable": false,
    "nbgrader": {}
   },
   "source": [
    "Before turning this problem in remember to do the following steps:\n",
    "\n",
    "1. **Restart the kernel** (Kernel$\\rightarrow$Restart)\n",
    "2. **Run all cells** (Cell$\\rightarrow$Run All)\n",
    "3. **Save** (File$\\rightarrow$Save and Checkpoint)"
   ]
  },
  {
   "cell_type": "markdown",
   "metadata": {
    "deletable": false,
    "nbgrader": {
     "cell_type": "release"
    }
   },
   "source": [
    "<div class=\"alert alert-danger\">After you have completed these three steps, ensure that the following cell has printed \"No errors\". If it has <b>not</b> printed \"No errors\", then your code has a bug in it and has thrown an error! Make sure you fix this error before turning in your problem set.</div>"
   ]
  },
  {
   "cell_type": "code",
   "execution_count": null,
   "metadata": {
    "deletable": false,
    "nbgrader": {}
   },
   "outputs": [],
   "source": [
    "print(\"No errors!\")"
   ]
  }
 ],
 "metadata": {
  "kernelspec": {
   "display_name": "Python 3",
   "language": "python",
   "name": "python3"
  },
  "language_info": {
   "codemirror_mode": {
    "name": "ipython",
    "version": 3
   },
   "file_extension": ".py",
   "mimetype": "text/x-python",
   "name": "python",
   "nbconvert_exporter": "python",
   "pygments_lexer": "ipython3",
   "version": "3.4.3"
  }
 },
 "nbformat": 4,
 "nbformat_minor": 0
}
